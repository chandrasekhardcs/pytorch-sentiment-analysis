{
 "cells": [
  {
   "cell_type": "markdown",
   "source": [
    "## **Assignment 1: Sentiment Analysis**\n"
   ],
   "metadata": {
    "papermill": {
     "duration": 0.042344,
     "end_time": "2021-10-03T21:39:09.456256",
     "exception": false,
     "start_time": "2021-10-03T21:39:09.413912",
     "status": "completed"
    },
    "tags": []
   }
  },
  {
   "cell_type": "code",
   "execution_count": 1,
   "source": [
    "!pip install -q -U watermark\n",
    "!pip install -qq transformers"
   ],
   "outputs": [
    {
     "output_type": "stream",
     "name": "stdout",
     "text": [
      "\u001b[33mWARNING: Running pip as the 'root' user can result in broken permissions and conflicting behaviour with the system package manager. It is recommended to use a virtual environment instead: https://pip.pypa.io/warnings/venv\u001b[0m\r\n"
     ]
    }
   ],
   "metadata": {
    "execution": {
     "iopub.execute_input": "2021-10-03T21:39:09.621085Z",
     "iopub.status.busy": "2021-10-03T21:39:09.620250Z",
     "iopub.status.idle": "2021-10-03T21:39:25.501510Z",
     "shell.execute_reply": "2021-10-03T21:39:25.500731Z",
     "shell.execute_reply.started": "2021-10-03T21:33:58.673447Z"
    },
    "papermill": {
     "duration": 16.003036,
     "end_time": "2021-10-03T21:39:25.501668",
     "exception": false,
     "start_time": "2021-10-03T21:39:09.498632",
     "status": "completed"
    },
    "tags": []
   }
  },
  {
   "cell_type": "code",
   "execution_count": 2,
   "source": [
    "%reload_ext watermark\n",
    "%watermark -v -p numpy,pandas,torch,transformers"
   ],
   "outputs": [
    {
     "output_type": "stream",
     "name": "stdout",
     "text": [
      "Python implementation: CPython\n",
      "Python version       : 3.7.10\n",
      "IPython version      : 7.26.0\n",
      "\n",
      "numpy       : 1.19.5\n",
      "pandas      : 1.2.5\n",
      "torch       : 1.7.1+cu110\n",
      "transformers: 4.5.1\n",
      "\n"
     ]
    }
   ],
   "metadata": {
    "execution": {
     "iopub.execute_input": "2021-10-03T21:39:25.602246Z",
     "iopub.status.busy": "2021-10-03T21:39:25.601355Z",
     "iopub.status.idle": "2021-10-03T21:39:30.034997Z",
     "shell.execute_reply": "2021-10-03T21:39:30.034572Z",
     "shell.execute_reply.started": "2021-10-03T21:34:16.420018Z"
    },
    "id": "eQUOMglavR25",
    "papermill": {
     "duration": 4.484818,
     "end_time": "2021-10-03T21:39:30.035119",
     "exception": false,
     "start_time": "2021-10-03T21:39:25.550301",
     "status": "completed"
    },
    "tags": []
   }
  },
  {
   "cell_type": "code",
   "execution_count": 3,
   "source": [
    "#Setup & Config\n",
    "import transformers\n",
    "from transformers import BertModel, BertTokenizer, AdamW, get_linear_schedule_with_warmup\n",
    "import torch\n",
    "from tqdm import tqdm\n",
    "tqdm.pandas()\n",
    "import numpy as np\n",
    "import pandas as pd\n",
    "import seaborn as sns\n",
    "from pylab import rcParams\n",
    "import matplotlib.pyplot as plt\n",
    "from matplotlib import rc\n",
    "from sklearn.model_selection import train_test_split\n",
    "from sklearn.metrics import confusion_matrix, classification_report\n",
    "from collections import defaultdict\n",
    "from textwrap import wrap\n",
    "from torch import nn, optim\n",
    "from torch.utils.data import Dataset, DataLoader\n",
    "import torch.nn.functional as F\n",
    "\n",
    "%matplotlib inline\n",
    "%config InlineBackend.figure_format='retina'\n",
    "\n",
    "\n",
    "RANDOM_SEED = 40\n",
    "np.random.seed(RANDOM_SEED)\n",
    "torch.manual_seed(RANDOM_SEED)\n",
    "\n",
    "\n",
    "PRE_TRAINED_MODEL_NAME = 'bert-base-uncased'"
   ],
   "outputs": [
    {
     "output_type": "stream",
     "name": "stderr",
     "text": [
      "2021-10-03 21:39:30.779508: I tensorflow/stream_executor/platform/default/dso_loader.cc:49] Successfully opened dynamic library libcudart.so.11.0\n"
     ]
    }
   ],
   "metadata": {
    "execution": {
     "iopub.execute_input": "2021-10-03T21:39:30.126299Z",
     "iopub.status.busy": "2021-10-03T21:39:30.125685Z",
     "iopub.status.idle": "2021-10-03T21:39:35.329553Z",
     "shell.execute_reply": "2021-10-03T21:39:35.328539Z",
     "shell.execute_reply.started": "2021-10-03T21:34:16.459290Z"
    },
    "id": "F0ll60m0ZTWK",
    "papermill": {
     "duration": 5.254874,
     "end_time": "2021-10-03T21:39:35.329720",
     "exception": false,
     "start_time": "2021-10-03T21:39:30.074846",
     "status": "completed"
    },
    "tags": []
   }
  },
  {
   "cell_type": "code",
   "execution_count": 4,
   "source": [
    "is_cuda = torch.cuda.is_available()\n",
    "\n",
    "# If we have a GPU available, we'll set our device to GPU. We'll use this device variable later in our code.\n",
    "if is_cuda:\n",
    "    device = torch.device(\"cuda\")\n",
    "    print(\"GPU is available\")\n",
    "else:\n",
    "    device = torch.device(\"cpu\")\n",
    "    print(\"GPU not available, CPU used\")\n",
    "   "
   ],
   "outputs": [
    {
     "output_type": "stream",
     "name": "stdout",
     "text": [
      "GPU is available\n"
     ]
    }
   ],
   "metadata": {
    "execution": {
     "iopub.execute_input": "2021-10-03T21:39:35.457352Z",
     "iopub.status.busy": "2021-10-03T21:39:35.456728Z",
     "iopub.status.idle": "2021-10-03T21:39:35.459872Z",
     "shell.execute_reply": "2021-10-03T21:39:35.460447Z",
     "shell.execute_reply.started": "2021-10-03T21:34:16.490558Z"
    },
    "papermill": {
     "duration": 0.090088,
     "end_time": "2021-10-03T21:39:35.460645",
     "exception": false,
     "start_time": "2021-10-03T21:39:35.370557",
     "status": "completed"
    },
    "tags": []
   }
  },
  {
   "cell_type": "code",
   "execution_count": 5,
   "source": [
    "'''Collab Content'''\n",
    "# from google.colab import drive\n",
    "# drive.mount('gdrive')"
   ],
   "outputs": [
    {
     "output_type": "execute_result",
     "data": {
      "text/plain": [
       "'Collab Content'"
      ]
     },
     "metadata": {},
     "execution_count": 5
    }
   ],
   "metadata": {
    "execution": {
     "iopub.execute_input": "2021-10-03T21:39:35.549819Z",
     "iopub.status.busy": "2021-10-03T21:39:35.548971Z",
     "iopub.status.idle": "2021-10-03T21:39:35.552075Z",
     "shell.execute_reply": "2021-10-03T21:39:35.552487Z",
     "shell.execute_reply.started": "2021-10-03T21:34:16.501997Z"
    },
    "id": "3djRPKxMvVb4",
    "papermill": {
     "duration": 0.050274,
     "end_time": "2021-10-03T21:39:35.552621",
     "exception": false,
     "start_time": "2021-10-03T21:39:35.502347",
     "status": "completed"
    },
    "tags": []
   }
  },
  {
   "cell_type": "markdown",
   "source": [
    "### **1. Importing the data**"
   ],
   "metadata": {
    "papermill": {
     "duration": 0.040445,
     "end_time": "2021-10-03T21:39:35.633730",
     "exception": false,
     "start_time": "2021-10-03T21:39:35.593285",
     "status": "completed"
    },
    "tags": []
   }
  },
  {
   "cell_type": "code",
   "execution_count": 6,
   "source": [
    "df_train = pd.read_csv('../input/imdb-dataset-hw/Train.csv')\n",
    "df_test = pd.read_csv('../input/imdb-dataset-hw/Test.csv')\n",
    "df_valid = pd.read_csv('../input/imdb-dataset-hw/Valid.csv')"
   ],
   "outputs": [],
   "metadata": {
    "execution": {
     "iopub.execute_input": "2021-10-03T21:39:35.720165Z",
     "iopub.status.busy": "2021-10-03T21:39:35.719656Z",
     "iopub.status.idle": "2021-10-03T21:39:37.232795Z",
     "shell.execute_reply": "2021-10-03T21:39:37.232217Z",
     "shell.execute_reply.started": "2021-10-03T21:34:16.514800Z"
    },
    "id": "5aUX28bevrtN",
    "papermill": {
     "duration": 1.5586,
     "end_time": "2021-10-03T21:39:37.232959",
     "exception": false,
     "start_time": "2021-10-03T21:39:35.674359",
     "status": "completed"
    },
    "tags": []
   }
  },
  {
   "cell_type": "code",
   "execution_count": 7,
   "source": [
    "df_train.head(5)"
   ],
   "outputs": [
    {
     "output_type": "execute_result",
     "data": {
      "text/html": [
       "<div>\n",
       "<style scoped>\n",
       "    .dataframe tbody tr th:only-of-type {\n",
       "        vertical-align: middle;\n",
       "    }\n",
       "\n",
       "    .dataframe tbody tr th {\n",
       "        vertical-align: top;\n",
       "    }\n",
       "\n",
       "    .dataframe thead th {\n",
       "        text-align: right;\n",
       "    }\n",
       "</style>\n",
       "<table border=\"1\" class=\"dataframe\">\n",
       "  <thead>\n",
       "    <tr style=\"text-align: right;\">\n",
       "      <th></th>\n",
       "      <th>text</th>\n",
       "      <th>label</th>\n",
       "    </tr>\n",
       "  </thead>\n",
       "  <tbody>\n",
       "    <tr>\n",
       "      <th>0</th>\n",
       "      <td>I grew up (b. 1965) watching and loving the Th...</td>\n",
       "      <td>0</td>\n",
       "    </tr>\n",
       "    <tr>\n",
       "      <th>1</th>\n",
       "      <td>When I put this movie in my DVD player, and sa...</td>\n",
       "      <td>0</td>\n",
       "    </tr>\n",
       "    <tr>\n",
       "      <th>2</th>\n",
       "      <td>Why do people who do not know what a particula...</td>\n",
       "      <td>0</td>\n",
       "    </tr>\n",
       "    <tr>\n",
       "      <th>3</th>\n",
       "      <td>Even though I have great interest in Biblical ...</td>\n",
       "      <td>0</td>\n",
       "    </tr>\n",
       "    <tr>\n",
       "      <th>4</th>\n",
       "      <td>Im a die hard Dads Army fan and nothing will e...</td>\n",
       "      <td>1</td>\n",
       "    </tr>\n",
       "  </tbody>\n",
       "</table>\n",
       "</div>"
      ],
      "text/plain": [
       "                                                text  label\n",
       "0  I grew up (b. 1965) watching and loving the Th...      0\n",
       "1  When I put this movie in my DVD player, and sa...      0\n",
       "2  Why do people who do not know what a particula...      0\n",
       "3  Even though I have great interest in Biblical ...      0\n",
       "4  Im a die hard Dads Army fan and nothing will e...      1"
      ]
     },
     "metadata": {},
     "execution_count": 7
    }
   ],
   "metadata": {
    "execution": {
     "iopub.execute_input": "2021-10-03T21:39:37.324384Z",
     "iopub.status.busy": "2021-10-03T21:39:37.323654Z",
     "iopub.status.idle": "2021-10-03T21:39:37.337881Z",
     "shell.execute_reply": "2021-10-03T21:39:37.337398Z",
     "shell.execute_reply.started": "2021-10-03T21:34:17.124699Z"
    },
    "id": "ta-qGIqLvzO3",
    "papermill": {
     "duration": 0.064146,
     "end_time": "2021-10-03T21:39:37.338009",
     "exception": false,
     "start_time": "2021-10-03T21:39:37.273863",
     "status": "completed"
    },
    "tags": []
   }
  },
  {
   "cell_type": "code",
   "execution_count": 8,
   "source": [
    "print(df_train.label.dtype)"
   ],
   "outputs": [
    {
     "output_type": "stream",
     "name": "stdout",
     "text": [
      "int64\n"
     ]
    }
   ],
   "metadata": {
    "execution": {
     "iopub.execute_input": "2021-10-03T21:39:37.428116Z",
     "iopub.status.busy": "2021-10-03T21:39:37.426562Z",
     "iopub.status.idle": "2021-10-03T21:39:37.430142Z",
     "shell.execute_reply": "2021-10-03T21:39:37.429706Z",
     "shell.execute_reply.started": "2021-10-03T21:34:17.138988Z"
    },
    "papermill": {
     "duration": 0.050677,
     "end_time": "2021-10-03T21:39:37.430247",
     "exception": false,
     "start_time": "2021-10-03T21:39:37.379570",
     "status": "completed"
    },
    "tags": []
   }
  },
  {
   "cell_type": "code",
   "execution_count": 9,
   "source": [
    "df_train.describe()"
   ],
   "outputs": [
    {
     "output_type": "execute_result",
     "data": {
      "text/html": [
       "<div>\n",
       "<style scoped>\n",
       "    .dataframe tbody tr th:only-of-type {\n",
       "        vertical-align: middle;\n",
       "    }\n",
       "\n",
       "    .dataframe tbody tr th {\n",
       "        vertical-align: top;\n",
       "    }\n",
       "\n",
       "    .dataframe thead th {\n",
       "        text-align: right;\n",
       "    }\n",
       "</style>\n",
       "<table border=\"1\" class=\"dataframe\">\n",
       "  <thead>\n",
       "    <tr style=\"text-align: right;\">\n",
       "      <th></th>\n",
       "      <th>label</th>\n",
       "    </tr>\n",
       "  </thead>\n",
       "  <tbody>\n",
       "    <tr>\n",
       "      <th>count</th>\n",
       "      <td>40000.000000</td>\n",
       "    </tr>\n",
       "    <tr>\n",
       "      <th>mean</th>\n",
       "      <td>0.499525</td>\n",
       "    </tr>\n",
       "    <tr>\n",
       "      <th>std</th>\n",
       "      <td>0.500006</td>\n",
       "    </tr>\n",
       "    <tr>\n",
       "      <th>min</th>\n",
       "      <td>0.000000</td>\n",
       "    </tr>\n",
       "    <tr>\n",
       "      <th>25%</th>\n",
       "      <td>0.000000</td>\n",
       "    </tr>\n",
       "    <tr>\n",
       "      <th>50%</th>\n",
       "      <td>0.000000</td>\n",
       "    </tr>\n",
       "    <tr>\n",
       "      <th>75%</th>\n",
       "      <td>1.000000</td>\n",
       "    </tr>\n",
       "    <tr>\n",
       "      <th>max</th>\n",
       "      <td>1.000000</td>\n",
       "    </tr>\n",
       "  </tbody>\n",
       "</table>\n",
       "</div>"
      ],
      "text/plain": [
       "              label\n",
       "count  40000.000000\n",
       "mean       0.499525\n",
       "std        0.500006\n",
       "min        0.000000\n",
       "25%        0.000000\n",
       "50%        0.000000\n",
       "75%        1.000000\n",
       "max        1.000000"
      ]
     },
     "metadata": {},
     "execution_count": 9
    }
   ],
   "metadata": {
    "execution": {
     "iopub.execute_input": "2021-10-03T21:39:37.521820Z",
     "iopub.status.busy": "2021-10-03T21:39:37.521294Z",
     "iopub.status.idle": "2021-10-03T21:39:37.533210Z",
     "shell.execute_reply": "2021-10-03T21:39:37.532805Z",
     "shell.execute_reply.started": "2021-10-03T21:34:17.151996Z"
    },
    "papermill": {
     "duration": 0.062189,
     "end_time": "2021-10-03T21:39:37.533323",
     "exception": false,
     "start_time": "2021-10-03T21:39:37.471134",
     "status": "completed"
    },
    "tags": []
   }
  },
  {
   "cell_type": "code",
   "execution_count": 10,
   "source": [
    "df_test.label.value_counts()"
   ],
   "outputs": [
    {
     "output_type": "execute_result",
     "data": {
      "text/plain": [
       "1    2505\n",
       "0    2495\n",
       "Name: label, dtype: int64"
      ]
     },
     "metadata": {},
     "execution_count": 10
    }
   ],
   "metadata": {
    "execution": {
     "iopub.execute_input": "2021-10-03T21:39:37.622554Z",
     "iopub.status.busy": "2021-10-03T21:39:37.621749Z",
     "iopub.status.idle": "2021-10-03T21:39:37.627068Z",
     "shell.execute_reply": "2021-10-03T21:39:37.627488Z",
     "shell.execute_reply.started": "2021-10-03T21:34:17.181161Z"
    },
    "papermill": {
     "duration": 0.051938,
     "end_time": "2021-10-03T21:39:37.627607",
     "exception": false,
     "start_time": "2021-10-03T21:39:37.575669",
     "status": "completed"
    },
    "tags": []
   }
  },
  {
   "cell_type": "markdown",
   "source": [
    "### **2. Text Preprocessing**"
   ],
   "metadata": {
    "papermill": {
     "duration": 0.041387,
     "end_time": "2021-10-03T21:39:37.711013",
     "exception": false,
     "start_time": "2021-10-03T21:39:37.669626",
     "status": "completed"
    },
    "tags": []
   }
  },
  {
   "cell_type": "code",
   "execution_count": 11,
   "source": [
    "from nltk.stem import WordNetLemmatizer\n",
    "\n",
    "lemmatizer = WordNetLemmatizer()\n",
    "def lemmatize(x):\n",
    "    temp = \"\"\n",
    "    for i in range(len(x.split())):\n",
    "        lem = lemmatizer.lemmatize(x.split()[i], pos=\"v\")\n",
    "        temp += lem + \" \"\n",
    "    temp = temp.rstrip()\n",
    "    return temp\n"
   ],
   "outputs": [],
   "metadata": {
    "execution": {
     "iopub.execute_input": "2021-10-03T21:39:37.800302Z",
     "iopub.status.busy": "2021-10-03T21:39:37.799702Z",
     "iopub.status.idle": "2021-10-03T21:39:38.249236Z",
     "shell.execute_reply": "2021-10-03T21:39:38.248721Z",
     "shell.execute_reply.started": "2021-10-03T21:34:17.194251Z"
    },
    "papermill": {
     "duration": 0.496279,
     "end_time": "2021-10-03T21:39:38.249380",
     "exception": false,
     "start_time": "2021-10-03T21:39:37.753101",
     "status": "completed"
    },
    "tags": []
   }
  },
  {
   "cell_type": "code",
   "execution_count": 12,
   "source": [
    "from gensim.parsing.preprocessing import strip_tags, strip_punctuation, strip_multiple_whitespaces, strip_numeric, remove_stopwords, strip_short, stem_text \n",
    "def clean_func(text):\n",
    "    text = strip_tags(text)\n",
    "    text = strip_punctuation(text)\n",
    "    text = strip_multiple_whitespaces(text)\n",
    "    text = remove_stopwords(text)\n",
    "    text = strip_short(text, minsize=2)\n",
    "    text = text.lower()\n",
    "    text = lemmatize(text)\n",
    "    return text"
   ],
   "outputs": [],
   "metadata": {
    "execution": {
     "iopub.execute_input": "2021-10-03T21:39:38.339339Z",
     "iopub.status.busy": "2021-10-03T21:39:38.338723Z",
     "iopub.status.idle": "2021-10-03T21:39:38.443379Z",
     "shell.execute_reply": "2021-10-03T21:39:38.442867Z",
     "shell.execute_reply.started": "2021-10-03T21:34:17.204915Z"
    },
    "papermill": {
     "duration": 0.151689,
     "end_time": "2021-10-03T21:39:38.443538",
     "exception": false,
     "start_time": "2021-10-03T21:39:38.291849",
     "status": "completed"
    },
    "tags": []
   }
  },
  {
   "cell_type": "code",
   "execution_count": 13,
   "source": [
    "df_train.loc[:, 'text'] = df_train['text'].progress_apply(clean_func)\n",
    "df_test.loc[:, 'text'] = df_test['text'].progress_apply(clean_func)\n",
    "df_valid.loc[:, 'text'] = df_valid['text'].progress_apply(clean_func)\n",
    "\n",
    "#Collab_Content\n",
    "# x_train,y_train = train_data['text'].values,train_data['label'].values\n",
    "# x_test,y_test = test_data['text'].values,test_data['label'].values\n",
    "# x_valid, y_valid = test_data['text'].values,test_data['label'].values"
   ],
   "outputs": [
    {
     "output_type": "stream",
     "name": "stderr",
     "text": [
      "100%|██████████| 40000/40000 [01:26<00:00, 463.22it/s]\n",
      "100%|██████████| 5000/5000 [00:10<00:00, 478.32it/s]\n",
      "100%|██████████| 5000/5000 [00:10<00:00, 469.02it/s]\n"
     ]
    }
   ],
   "metadata": {
    "execution": {
     "iopub.execute_input": "2021-10-03T21:39:38.535130Z",
     "iopub.status.busy": "2021-10-03T21:39:38.534529Z",
     "iopub.status.idle": "2021-10-03T21:41:26.024155Z",
     "shell.execute_reply": "2021-10-03T21:41:26.023692Z",
     "shell.execute_reply.started": "2021-10-03T21:34:17.217502Z"
    },
    "id": "SjonRCpHwZlE",
    "papermill": {
     "duration": 107.538386,
     "end_time": "2021-10-03T21:41:26.024292",
     "exception": false,
     "start_time": "2021-10-03T21:39:38.485906",
     "status": "completed"
    },
    "tags": []
   }
  },
  {
   "cell_type": "markdown",
   "source": [
    "### **3. Exploratory Data Analysis**"
   ],
   "metadata": {
    "execution": {
     "iopub.execute_input": "2021-10-03T03:19:27.609045Z",
     "iopub.status.busy": "2021-10-03T03:19:27.608774Z",
     "iopub.status.idle": "2021-10-03T03:19:27.613302Z",
     "shell.execute_reply": "2021-10-03T03:19:27.61234Z",
     "shell.execute_reply.started": "2021-10-03T03:19:27.609017Z"
    },
    "papermill": {
     "duration": 0.281159,
     "end_time": "2021-10-03T21:41:26.590681",
     "exception": false,
     "start_time": "2021-10-03T21:41:26.309522",
     "status": "completed"
    },
    "tags": []
   }
  },
  {
   "cell_type": "code",
   "execution_count": 14,
   "source": [
    "df_test['text'][0],df_test['label'][0]"
   ],
   "outputs": [
    {
     "output_type": "execute_result",
     "data": {
      "text/plain": [
       "('write series complete stink fest jim belushi involve heavily but day tragic happenstance occur after white sox game end realize remote way room now get walk room remote tv turn channel but walk country watch tv state nut say so decide hang tight couch fate store what fate store episode episode remember little broad general sweep blanket judgment base zero objective experiential evidence whatsoever opinions completely right this total crud pie belushi comedic delivery hairy lighthouse foghorn the women physically attractive stepford elicit real feel viewer there absolutely reason stop run local tv station gasoline flamethrower send copy mutt howl hell except except wonderful comic sty lings larry joe campbell america greatest comic character actor this guy play belushi brother law andy gold how good well aside funny job belushi look good that like try butt warts look good but campbell pull style someone invent nobel prize comic buffoonery win year without larry joe consist slightly vacant look courtney thorne smith smack belushi head fry pan alternately beat chest play straw floor cage star larry joe campbell designate comedic bacon improve flavor',\n",
       " 0)"
      ]
     },
     "metadata": {},
     "execution_count": 14
    }
   ],
   "metadata": {
    "execution": {
     "iopub.execute_input": "2021-10-03T21:41:27.161914Z",
     "iopub.status.busy": "2021-10-03T21:41:27.161149Z",
     "iopub.status.idle": "2021-10-03T21:41:27.164177Z",
     "shell.execute_reply": "2021-10-03T21:41:27.164641Z",
     "shell.execute_reply.started": "2021-10-03T21:36:20.724667Z"
    },
    "papermill": {
     "duration": 0.294067,
     "end_time": "2021-10-03T21:41:27.164776",
     "exception": false,
     "start_time": "2021-10-03T21:41:26.870709",
     "status": "completed"
    },
    "tags": []
   }
  },
  {
   "cell_type": "code",
   "execution_count": 15,
   "source": [
    "sns.set(style='whitegrid', palette='muted', font_scale=1.2)\n",
    "HAPPY_COLORS_PALETTE = [\"#01BEFE\", \"#FFDD00\", \"#FF7D00\", \"#FF006D\", \"#ADFF02\", \"#8F00FF\"]\n",
    "sns.set_palette(sns.color_palette(HAPPY_COLORS_PALETTE))\n",
    "rcParams['figure.figsize'] = 12, 8\n",
    "label_plot = pd.Series(df_train['label']).value_counts()\n",
    "x2=np.array(['negative','positive'])\n",
    "sns.barplot(x=np.array(['negative','positive']),y=label_plot.values)\n",
    "plt.show()"
   ],
   "outputs": [
    {
     "output_type": "display_data",
     "data": {
      "image/png": "[encoded data removed]",
      "text/plain": [
       "<Figure size 864x576 with 1 Axes>"
      ]
     },
     "metadata": {
      "image/png": {
       "height": 471,
       "width": 735
      }
     }
    }
   ],
   "metadata": {
    "execution": {
     "iopub.execute_input": "2021-10-03T21:41:27.734795Z",
     "iopub.status.busy": "2021-10-03T21:41:27.733950Z",
     "iopub.status.idle": "2021-10-03T21:41:28.009299Z",
     "shell.execute_reply": "2021-10-03T21:41:28.009791Z",
     "shell.execute_reply.started": "2021-10-03T21:36:20.735202Z"
    },
    "id": "W_k1mPrTwAVY",
    "papermill": {
     "duration": 0.56574,
     "end_time": "2021-10-03T21:41:28.009956",
     "exception": false,
     "start_time": "2021-10-03T21:41:27.444216",
     "status": "completed"
    },
    "tags": []
   }
  },
  {
   "cell_type": "code",
   "execution_count": 16,
   "source": [
    "from wordcloud import WordCloud, STOPWORDS\n",
    "df_train_1 = df_train[df_train['label'] ==1] \n",
    "print(df_train_1.shape)\n",
    "wordcloud = WordCloud().generate(' '.join(df_train_1['text']))\n",
    "plt.imshow(wordcloud)\n",
    "plt.axis(\"off\")\n",
    "plt.show()"
   ],
   "outputs": [
    {
     "output_type": "stream",
     "name": "stdout",
     "text": [
      "(19981, 2)\n"
     ]
    },
    {
     "output_type": "display_data",
     "data": {
      "image/png": "[encoded data removed]",
      "text/plain": [
       "<Figure size 864x576 with 1 Axes>"
      ]
     },
     "metadata": {
      "image/png": {
       "height": 349,
       "width": 683
      }
     }
    }
   ],
   "metadata": {
    "execution": {
     "iopub.execute_input": "2021-10-03T21:41:28.625293Z",
     "iopub.status.busy": "2021-10-03T21:41:28.624550Z",
     "iopub.status.idle": "2021-10-03T21:41:46.851739Z",
     "shell.execute_reply": "2021-10-03T21:41:46.850743Z",
     "shell.execute_reply.started": "2021-10-03T21:36:21.035917Z"
    },
    "papermill": {
     "duration": 18.512648,
     "end_time": "2021-10-03T21:41:46.851930",
     "exception": false,
     "start_time": "2021-10-03T21:41:28.339282",
     "status": "completed"
    },
    "tags": []
   }
  },
  {
   "cell_type": "code",
   "execution_count": 17,
   "source": [
    "df_train_0 = df_train[df_train['label'] ==0] \n",
    "print(df_train_0.shape)\n",
    "wordcloud = WordCloud().generate(' '.join(df_train_0['text']))\n",
    "plt.imshow(wordcloud)\n",
    "plt.axis(\"off\")\n",
    "plt.show()"
   ],
   "outputs": [
    {
     "output_type": "stream",
     "name": "stdout",
     "text": [
      "(20019, 2)\n"
     ]
    },
    {
     "output_type": "display_data",
     "data": {
      "image/png": "[encoded data removed]",
      "text/plain": [
       "<Figure size 864x576 with 1 Axes>"
      ]
     },
     "metadata": {
      "image/png": {
       "height": 349,
       "width": 683
      }
     }
    }
   ],
   "metadata": {
    "execution": {
     "iopub.execute_input": "2021-10-03T21:41:47.549132Z",
     "iopub.status.busy": "2021-10-03T21:41:47.548306Z",
     "iopub.status.idle": "2021-10-03T21:42:04.997308Z",
     "shell.execute_reply": "2021-10-03T21:42:04.996885Z",
     "shell.execute_reply.started": "2021-10-03T21:36:43.724143Z"
    },
    "papermill": {
     "duration": 17.738943,
     "end_time": "2021-10-03T21:42:04.997433",
     "exception": false,
     "start_time": "2021-10-03T21:41:47.258490",
     "status": "completed"
    },
    "tags": []
   }
  },
  {
   "cell_type": "markdown",
   "source": [
    "\n",
    "### **4. Tokenization**\n",
    "#### BERT Tokenizer\n",
    "To feed our text to BERT, it must be split into tokens, and then these tokens must be mapped to their index in the bert tokenizer vocabulary."
   ],
   "metadata": {
    "papermill": {
     "duration": 0.287287,
     "end_time": "2021-10-03T21:42:05.572533",
     "exception": false,
     "start_time": "2021-10-03T21:42:05.285246",
     "status": "completed"
    },
    "tags": []
   }
  },
  {
   "cell_type": "code",
   "execution_count": 18,
   "source": [
    "tokenizer = BertTokenizer.from_pretrained(PRE_TRAINED_MODEL_NAME)"
   ],
   "outputs": [
    {
     "output_type": "display_data",
     "data": {
      "application/vnd.jupyter.widget-view+json": {
       "model_id": "831b5a224d9345ebbbec25881641c12e",
       "version_major": 2,
       "version_minor": 0
      },
      "text/plain": [
       "Downloading:   0%|          | 0.00/232k [00:00<?, ?B/s]"
      ]
     },
     "metadata": {}
    },
    {
     "output_type": "display_data",
     "data": {
      "application/vnd.jupyter.widget-view+json": {
       "model_id": "ea865833e6af4082b1cbb0e81956c7a7",
       "version_major": 2,
       "version_minor": 0
      },
      "text/plain": [
       "Downloading:   0%|          | 0.00/28.0 [00:00<?, ?B/s]"
      ]
     },
     "metadata": {}
    },
    {
     "output_type": "display_data",
     "data": {
      "application/vnd.jupyter.widget-view+json": {
       "model_id": "69539bf56daf4fc5b8d5a76133e80159",
       "version_major": 2,
       "version_minor": 0
      },
      "text/plain": [
       "Downloading:   0%|          | 0.00/466k [00:00<?, ?B/s]"
      ]
     },
     "metadata": {}
    }
   ],
   "metadata": {
    "execution": {
     "iopub.execute_input": "2021-10-03T21:42:06.151746Z",
     "iopub.status.busy": "2021-10-03T21:42:06.151173Z",
     "iopub.status.idle": "2021-10-03T21:42:07.230781Z",
     "shell.execute_reply": "2021-10-03T21:42:07.230322Z",
     "shell.execute_reply.started": "2021-10-03T21:37:04.306371Z"
    },
    "papermill": {
     "duration": 1.371673,
     "end_time": "2021-10-03T21:42:07.230908",
     "exception": false,
     "start_time": "2021-10-03T21:42:05.859235",
     "status": "completed"
    },
    "tags": []
   }
  },
  {
   "cell_type": "code",
   "execution_count": 19,
   "source": [
    "sample_txt = 'When was I last outside? I am stuck at home for 2 weeks.'\n",
    "'''Transformation function'''\n",
    "encoding = tokenizer.encode_plus(\n",
    "  sample_txt,\n",
    "  max_length=32,\n",
    "  add_special_tokens=True, # Add '[CLS]' and '[SEP]'\n",
    "  return_token_type_ids=False,\n",
    "  pad_to_max_length=True,\n",
    "  return_attention_mask=True,\n",
    "  return_tensors='pt',  # Return PyTorch tensors\n",
    ")\n",
    "print(sample_txt)\n",
    "encoding.keys()"
   ],
   "outputs": [
    {
     "output_type": "stream",
     "name": "stderr",
     "text": [
      "Truncation was not explicitly activated but `max_length` is provided a specific value, please use `truncation=True` to explicitly truncate examples to max length. Defaulting to 'longest_first' truncation strategy. If you encode pairs of sequences (GLUE-style) with the tokenizer you can select this strategy more precisely by providing a specific strategy to `truncation`.\n"
     ]
    },
    {
     "output_type": "stream",
     "name": "stdout",
     "text": [
      "When was I last outside? I am stuck at home for 2 weeks.\n"
     ]
    },
    {
     "output_type": "stream",
     "name": "stderr",
     "text": [
      "/opt/conda/lib/python3.7/site-packages/transformers/tokenization_utils_base.py:2079: FutureWarning: The `pad_to_max_length` argument is deprecated and will be removed in a future version, use `padding=True` or `padding='longest'` to pad to the longest sequence in the batch, or use `padding='max_length'` to pad to a max length. In this case, you can give a specific length with `max_length` (e.g. `max_length=45`) or leave max_length to None to pad to the maximal input size of the model (e.g. 512 for Bert).\n",
      "  FutureWarning,\n"
     ]
    },
    {
     "output_type": "execute_result",
     "data": {
      "text/plain": [
       "dict_keys(['input_ids', 'attention_mask'])"
      ]
     },
     "metadata": {},
     "execution_count": 19
    }
   ],
   "metadata": {
    "execution": {
     "iopub.execute_input": "2021-10-03T21:42:07.820507Z",
     "iopub.status.busy": "2021-10-03T21:42:07.819929Z",
     "iopub.status.idle": "2021-10-03T21:42:07.840458Z",
     "shell.execute_reply": "2021-10-03T21:42:07.841048Z",
     "shell.execute_reply.started": "2021-10-03T21:37:06.546195Z"
    },
    "id": "n3oKN7xZxwFI",
    "papermill": {
     "duration": 0.32105,
     "end_time": "2021-10-03T21:42:07.841218",
     "exception": false,
     "start_time": "2021-10-03T21:42:07.520168",
     "status": "completed"
    },
    "tags": []
   }
  },
  {
   "cell_type": "markdown",
   "source": [
    "\n",
    "Applying the tokenizer to one sentence just to see the output tokens\n",
    "\n",
    "\n",
    "\n",
    "\n"
   ],
   "metadata": {
    "papermill": {
     "duration": 0.290946,
     "end_time": "2021-10-03T21:42:08.423971",
     "exception": false,
     "start_time": "2021-10-03T21:42:08.133025",
     "status": "completed"
    },
    "tags": []
   }
  },
  {
   "cell_type": "code",
   "execution_count": 20,
   "source": [
    "#Tokenization_Example\n",
    "tokens = tokenizer.tokenize(sample_txt)\n",
    "token_ids = tokenizer.convert_tokens_to_ids(tokens)\n",
    "\n",
    "print(f' Sentence: {sample_txt}')\n",
    "print(f'   Tokens: {tokens}')\n",
    "print(f'Token IDs: {token_ids}')\n"
   ],
   "outputs": [
    {
     "output_type": "stream",
     "name": "stdout",
     "text": [
      " Sentence: When was I last outside? I am stuck at home for 2 weeks.\n",
      "   Tokens: ['when', 'was', 'i', 'last', 'outside', '?', 'i', 'am', 'stuck', 'at', 'home', 'for', '2', 'weeks', '.']\n",
      "Token IDs: [2043, 2001, 1045, 2197, 2648, 1029, 1045, 2572, 5881, 2012, 2188, 2005, 1016, 3134, 1012]\n"
     ]
    }
   ],
   "metadata": {
    "execution": {
     "iopub.execute_input": "2021-10-03T21:42:09.264429Z",
     "iopub.status.busy": "2021-10-03T21:42:09.263746Z",
     "iopub.status.idle": "2021-10-03T21:42:09.266621Z",
     "shell.execute_reply": "2021-10-03T21:42:09.267042Z",
     "shell.execute_reply.started": "2021-10-03T21:37:06.566833Z"
    },
    "papermill": {
     "duration": 0.383482,
     "end_time": "2021-10-03T21:42:09.267178",
     "exception": false,
     "start_time": "2021-10-03T21:42:08.883696",
     "status": "completed"
    },
    "tags": []
   }
  },
  {
   "cell_type": "markdown",
   "source": [
    "Special Tokens (Tokens at start and end of each sentence, Padding Token, Unknown Token)"
   ],
   "metadata": {
    "papermill": {
     "duration": 0.291264,
     "end_time": "2021-10-03T21:42:09.847866",
     "exception": false,
     "start_time": "2021-10-03T21:42:09.556602",
     "status": "completed"
    },
    "tags": []
   }
  },
  {
   "cell_type": "code",
   "execution_count": 21,
   "source": [
    "print(tokenizer.sep_token, tokenizer.sep_token_id)\n",
    "print(tokenizer.cls_token, tokenizer.cls_token_id)\n",
    "print(tokenizer.pad_token, tokenizer.pad_token_id)\n",
    "print(tokenizer.unk_token, tokenizer.unk_token_id)"
   ],
   "outputs": [
    {
     "output_type": "stream",
     "name": "stdout",
     "text": [
      "[SEP] 102\n",
      "[CLS] 101\n",
      "[PAD] 0\n",
      "[UNK] 100\n"
     ]
    }
   ],
   "metadata": {
    "execution": {
     "iopub.execute_input": "2021-10-03T21:42:10.447086Z",
     "iopub.status.busy": "2021-10-03T21:42:10.446079Z",
     "iopub.status.idle": "2021-10-03T21:42:10.450165Z",
     "shell.execute_reply": "2021-10-03T21:42:10.450900Z",
     "shell.execute_reply.started": "2021-10-03T21:37:06.579138Z"
    },
    "papermill": {
     "duration": 0.311472,
     "end_time": "2021-10-03T21:42:10.451086",
     "exception": false,
     "start_time": "2021-10-03T21:42:10.139614",
     "status": "completed"
    },
    "tags": []
   }
  },
  {
   "cell_type": "code",
   "execution_count": 22,
   "source": [
    "# token_lens = []\n",
    "\n",
    "# for txt in df_train.text:\n",
    "#     tokens = tokenizer.encode(txt, max_length=512,truncation=True)\n",
    "#     token_lens.append(len(tokens))"
   ],
   "outputs": [],
   "metadata": {
    "execution": {
     "iopub.execute_input": "2021-10-03T21:42:11.079744Z",
     "iopub.status.busy": "2021-10-03T21:42:11.079170Z",
     "iopub.status.idle": "2021-10-03T21:42:11.082582Z",
     "shell.execute_reply": "2021-10-03T21:42:11.082983Z",
     "shell.execute_reply.started": "2021-10-03T21:37:06.593893Z"
    },
    "id": "UQmh8JFHx5l3",
    "papermill": {
     "duration": 0.302017,
     "end_time": "2021-10-03T21:42:11.083128",
     "exception": false,
     "start_time": "2021-10-03T21:42:10.781111",
     "status": "completed"
    },
    "tags": []
   }
  },
  {
   "cell_type": "code",
   "execution_count": 23,
   "source": [
    "# sns.distplot(token_lens)\n",
    "# plt.xlim([0, 1000]);\n",
    "# plt.xlabel('Token count');"
   ],
   "outputs": [],
   "metadata": {
    "execution": {
     "iopub.execute_input": "2021-10-03T21:42:11.672264Z",
     "iopub.status.busy": "2021-10-03T21:42:11.671437Z",
     "iopub.status.idle": "2021-10-03T21:42:11.673640Z",
     "shell.execute_reply": "2021-10-03T21:42:11.674018Z",
     "shell.execute_reply.started": "2021-10-03T21:37:06.601580Z"
    },
    "id": "AgrHYRX_LFLL",
    "papermill": {
     "duration": 0.298297,
     "end_time": "2021-10-03T21:42:11.674158",
     "exception": false,
     "start_time": "2021-10-03T21:42:11.375861",
     "status": "completed"
    },
    "tags": []
   }
  },
  {
   "cell_type": "code",
   "execution_count": 24,
   "source": [
    "class GPReviewDataset(Dataset):\n",
    "\n",
    "  def __init__(self, reviews, targets, tokenizer, max_len):\n",
    "    self.reviews = reviews\n",
    "    self.targets = targets\n",
    "    self.tokenizer = tokenizer\n",
    "    self.max_len = max_len\n",
    "  \n",
    "  def __len__(self):\n",
    "    return len(self.reviews)\n",
    "  \n",
    "  def __getitem__(self, item):\n",
    "    review = str(self.reviews[item])\n",
    "    target = self.targets[item]\n",
    "\n",
    "    encoding = self.tokenizer.encode_plus(\n",
    "      review,\n",
    "      add_special_tokens=True,\n",
    "      max_length=self.max_len,\n",
    "      return_token_type_ids=False,\n",
    "      pad_to_max_length=True,\n",
    "      return_attention_mask=True,\n",
    "      return_tensors='pt',\n",
    "    )\n",
    "\n",
    "    return {\n",
    "      'review_text': review,\n",
    "      'input_ids': encoding['input_ids'].flatten(),\n",
    "      'attention_mask': encoding['attention_mask'].flatten(),\n",
    "      'targets': torch.tensor(target, dtype=torch.long)\n",
    "    }"
   ],
   "outputs": [],
   "metadata": {
    "execution": {
     "iopub.execute_input": "2021-10-03T21:42:12.269379Z",
     "iopub.status.busy": "2021-10-03T21:42:12.267715Z",
     "iopub.status.idle": "2021-10-03T21:42:12.270005Z",
     "shell.execute_reply": "2021-10-03T21:42:12.270393Z",
     "shell.execute_reply.started": "2021-10-03T21:37:06.614528Z"
    },
    "id": "ITcnX20RMtOd",
    "papermill": {
     "duration": 0.30646,
     "end_time": "2021-10-03T21:42:12.270545",
     "exception": false,
     "start_time": "2021-10-03T21:42:11.964085",
     "status": "completed"
    },
    "tags": []
   }
  },
  {
   "cell_type": "code",
   "execution_count": 25,
   "source": [
    "df_train.shape, df_valid.shape, df_test.shape"
   ],
   "outputs": [
    {
     "output_type": "execute_result",
     "data": {
      "text/plain": [
       "((40000, 2), (5000, 2), (5000, 2))"
      ]
     },
     "metadata": {},
     "execution_count": 25
    }
   ],
   "metadata": {
    "execution": {
     "iopub.execute_input": "2021-10-03T21:42:12.867055Z",
     "iopub.status.busy": "2021-10-03T21:42:12.866439Z",
     "iopub.status.idle": "2021-10-03T21:42:12.869110Z",
     "shell.execute_reply": "2021-10-03T21:42:12.869530Z",
     "shell.execute_reply.started": "2021-10-03T21:37:06.628695Z"
    },
    "id": "is1i5fdKM_pu",
    "papermill": {
     "duration": 0.300374,
     "end_time": "2021-10-03T21:42:12.869668",
     "exception": false,
     "start_time": "2021-10-03T21:42:12.569294",
     "status": "completed"
    },
    "tags": []
   }
  },
  {
   "cell_type": "code",
   "execution_count": 26,
   "source": [
    "def create_data_loader(df, tokenizer, max_len, batch_size):\n",
    "  ds = GPReviewDataset(\n",
    "    reviews=df.text.to_numpy(),\n",
    "    targets=df.label.to_numpy(),\n",
    "    tokenizer=tokenizer,\n",
    "    max_len=max_len\n",
    "  )\n",
    "\n",
    "  return DataLoader(\n",
    "    ds,\n",
    "    batch_size=batch_size,\n",
    "    num_workers=4\n",
    "  )"
   ],
   "outputs": [],
   "metadata": {
    "execution": {
     "iopub.execute_input": "2021-10-03T21:42:13.457758Z",
     "iopub.status.busy": "2021-10-03T21:42:13.456858Z",
     "iopub.status.idle": "2021-10-03T21:42:13.458785Z",
     "shell.execute_reply": "2021-10-03T21:42:13.459189Z",
     "shell.execute_reply.started": "2021-10-03T21:37:06.645298Z"
    },
    "id": "Ygu8fOe1QfBN",
    "papermill": {
     "duration": 0.297945,
     "end_time": "2021-10-03T21:42:13.459331",
     "exception": false,
     "start_time": "2021-10-03T21:42:13.161386",
     "status": "completed"
    },
    "tags": []
   }
  },
  {
   "cell_type": "code",
   "execution_count": 27,
   "source": [
    "MAX_LEN = 150\n",
    "BATCH_SIZE = 16"
   ],
   "outputs": [],
   "metadata": {
    "execution": {
     "iopub.execute_input": "2021-10-03T21:42:14.049278Z",
     "iopub.status.busy": "2021-10-03T21:42:14.048618Z",
     "iopub.status.idle": "2021-10-03T21:42:14.051767Z",
     "shell.execute_reply": "2021-10-03T21:42:14.051293Z",
     "shell.execute_reply.started": "2021-10-03T21:37:06.655846Z"
    },
    "papermill": {
     "duration": 0.299974,
     "end_time": "2021-10-03T21:42:14.051900",
     "exception": false,
     "start_time": "2021-10-03T21:42:13.751926",
     "status": "completed"
    },
    "tags": []
   }
  },
  {
   "cell_type": "markdown",
   "source": [
    "### **5. Creating a batch generator**\n",
    "\n",
    "Creating an Data  for our IMDB dataset using the torch DataLoader class. This helps save on memory during training because, unlike a for loop, with an iterator the entire dataset does not need to be loaded into memory."
   ],
   "metadata": {
    "papermill": {
     "duration": 0.291582,
     "end_time": "2021-10-03T21:42:14.636123",
     "exception": false,
     "start_time": "2021-10-03T21:42:14.344541",
     "status": "completed"
    },
    "tags": []
   }
  },
  {
   "cell_type": "code",
   "execution_count": 28,
   "source": [
    "train_data_loader = create_data_loader(df_train, tokenizer, MAX_LEN, BATCH_SIZE)\n",
    "val_data_loader = create_data_loader(df_valid, tokenizer, MAX_LEN, BATCH_SIZE)\n",
    "test_data_loader = create_data_loader(df_test, tokenizer, MAX_LEN, BATCH_SIZE)"
   ],
   "outputs": [],
   "metadata": {
    "execution": {
     "iopub.execute_input": "2021-10-03T21:42:15.228394Z",
     "iopub.status.busy": "2021-10-03T21:42:15.226754Z",
     "iopub.status.idle": "2021-10-03T21:42:15.229075Z",
     "shell.execute_reply": "2021-10-03T21:42:15.229489Z",
     "shell.execute_reply.started": "2021-10-03T21:37:06.671517Z"
    },
    "id": "9BkUMiErQrTy",
    "papermill": {
     "duration": 0.301448,
     "end_time": "2021-10-03T21:42:15.229662",
     "exception": false,
     "start_time": "2021-10-03T21:42:14.928214",
     "status": "completed"
    },
    "tags": []
   }
  },
  {
   "cell_type": "code",
   "execution_count": 29,
   "source": [
    "data = next(iter(train_data_loader))\n",
    "print(data.keys())\n",
    "print(data['input_ids'].shape)\n",
    "print(data['attention_mask'].shape)\n",
    "print(data['targets'].shape) "
   ],
   "outputs": [
    {
     "output_type": "stream",
     "name": "stdout",
     "text": [
      "dict_keys(['review_text', 'input_ids', 'attention_mask', 'targets'])\n",
      "torch.Size([16, 150])\n",
      "torch.Size([16, 150])\n",
      "torch.Size([16])\n"
     ]
    }
   ],
   "metadata": {
    "execution": {
     "iopub.execute_input": "2021-10-03T21:42:15.825228Z",
     "iopub.status.busy": "2021-10-03T21:42:15.823748Z",
     "iopub.status.idle": "2021-10-03T21:42:16.292278Z",
     "shell.execute_reply": "2021-10-03T21:42:16.293240Z",
     "shell.execute_reply.started": "2021-10-03T21:37:06.687335Z"
    },
    "id": "TimN6RMOQ02g",
    "papermill": {
     "duration": 0.770535,
     "end_time": "2021-10-03T21:42:16.293441",
     "exception": false,
     "start_time": "2021-10-03T21:42:15.522906",
     "status": "completed"
    },
    "tags": []
   }
  },
  {
   "cell_type": "code",
   "execution_count": 30,
   "source": [
    "#print(data['review_text'])"
   ],
   "outputs": [],
   "metadata": {
    "execution": {
     "iopub.execute_input": "2021-10-03T21:42:16.883835Z",
     "iopub.status.busy": "2021-10-03T21:42:16.882927Z",
     "iopub.status.idle": "2021-10-03T21:42:16.884807Z",
     "shell.execute_reply": "2021-10-03T21:42:16.885243Z",
     "shell.execute_reply.started": "2021-10-03T21:37:07.475890Z"
    },
    "id": "xa2ilvKNQ5gL",
    "papermill": {
     "duration": 0.299334,
     "end_time": "2021-10-03T21:42:16.885378",
     "exception": false,
     "start_time": "2021-10-03T21:42:16.586044",
     "status": "completed"
    },
    "tags": []
   }
  },
  {
   "cell_type": "code",
   "execution_count": 31,
   "source": [
    "bert_model = BertModel.from_pretrained(PRE_TRAINED_MODEL_NAME)"
   ],
   "outputs": [
    {
     "output_type": "display_data",
     "data": {
      "application/vnd.jupyter.widget-view+json": {
       "model_id": "1b7931020f3a4e0b9bdf6e3d49a0e497",
       "version_major": 2,
       "version_minor": 0
      },
      "text/plain": [
       "Downloading:   0%|          | 0.00/570 [00:00<?, ?B/s]"
      ]
     },
     "metadata": {}
    },
    {
     "output_type": "display_data",
     "data": {
      "application/vnd.jupyter.widget-view+json": {
       "model_id": "7a9bca103f3b4ce19d60c5f69ad41780",
       "version_major": 2,
       "version_minor": 0
      },
      "text/plain": [
       "Downloading:   0%|          | 0.00/440M [00:00<?, ?B/s]"
      ]
     },
     "metadata": {}
    }
   ],
   "metadata": {
    "execution": {
     "iopub.execute_input": "2021-10-03T21:42:17.478418Z",
     "iopub.status.busy": "2021-10-03T21:42:17.476003Z",
     "iopub.status.idle": "2021-10-03T21:42:35.259718Z",
     "shell.execute_reply": "2021-10-03T21:42:35.258757Z",
     "shell.execute_reply.started": "2021-10-03T21:37:07.488686Z"
    },
    "id": "RsWD1zaqQ8vf",
    "papermill": {
     "duration": 18.081965,
     "end_time": "2021-10-03T21:42:35.259873",
     "exception": false,
     "start_time": "2021-10-03T21:42:17.177908",
     "status": "completed"
    },
    "tags": []
   }
  },
  {
   "cell_type": "code",
   "execution_count": 32,
   "source": [
    "model_test = bert_model(\n",
    "  input_ids=encoding['input_ids'],\n",
    "  attention_mask=encoding['attention_mask']\n",
    ")"
   ],
   "outputs": [],
   "metadata": {
    "execution": {
     "iopub.execute_input": "2021-10-03T21:42:35.875458Z",
     "iopub.status.busy": "2021-10-03T21:42:35.874811Z",
     "iopub.status.idle": "2021-10-03T21:42:36.053727Z",
     "shell.execute_reply": "2021-10-03T21:42:36.053215Z",
     "shell.execute_reply.started": "2021-10-03T21:37:12.128229Z"
    },
    "id": "2Gp46gwkRRP4",
    "papermill": {
     "duration": 0.500829,
     "end_time": "2021-10-03T21:42:36.053888",
     "exception": false,
     "start_time": "2021-10-03T21:42:35.553059",
     "status": "completed"
    },
    "tags": []
   }
  },
  {
   "cell_type": "code",
   "execution_count": 33,
   "source": [
    " last_hidden_state=model_test['last_hidden_state']\n",
    " pooled_output=model_test['pooler_output']\n",
    " print(last_hidden_state.shape)\n",
    " print(bert_model.config.hidden_size)\n",
    " print(pooled_output.shape)"
   ],
   "outputs": [
    {
     "output_type": "stream",
     "name": "stdout",
     "text": [
      "torch.Size([1, 32, 768])\n",
      "768\n",
      "torch.Size([1, 768])\n"
     ]
    }
   ],
   "metadata": {
    "execution": {
     "iopub.execute_input": "2021-10-03T21:42:36.645597Z",
     "iopub.status.busy": "2021-10-03T21:42:36.644947Z",
     "iopub.status.idle": "2021-10-03T21:42:36.647975Z",
     "shell.execute_reply": "2021-10-03T21:42:36.648466Z",
     "shell.execute_reply.started": "2021-10-03T21:37:12.303280Z"
    },
    "id": "pBxirg7rUi8S",
    "papermill": {
     "duration": 0.30026,
     "end_time": "2021-10-03T21:42:36.648632",
     "exception": false,
     "start_time": "2021-10-03T21:42:36.348372",
     "status": "completed"
    },
    "tags": []
   }
  },
  {
   "cell_type": "code",
   "execution_count": 34,
   "source": [
    "# class SentimentClassifier(nn.Module):\n",
    "\n",
    "#   def __init__(self, n_classes):\n",
    "#     super(SentimentClassifier, self).__init__()\n",
    "#     self.bert = BertModel.from_pretrained(PRE_TRAINED_MODEL_NAME)\n",
    "#     self.drop = nn.Dropout(p=0.3)\n",
    "#     self.out = nn.Linear(self.bert.config.hidden_size, n_classes)\n",
    "  \n",
    "#   def forward(self, input_ids, attention_mask):\n",
    "#     _, pooled_output = self.bert(\n",
    "#       input_ids=input_ids,\n",
    "#       attention_mask=attention_mask\n",
    "#     )\n",
    "#     output = self.drop(pooled_output)\n",
    "#     return self.out(output)"
   ],
   "outputs": [],
   "metadata": {
    "execution": {
     "iopub.execute_input": "2021-10-03T21:42:37.239141Z",
     "iopub.status.busy": "2021-10-03T21:42:37.238561Z",
     "iopub.status.idle": "2021-10-03T21:42:37.242082Z",
     "shell.execute_reply": "2021-10-03T21:42:37.242453Z",
     "shell.execute_reply.started": "2021-10-03T21:37:12.323483Z"
    },
    "id": "Xa7KVpCJRmoH",
    "papermill": {
     "duration": 0.301634,
     "end_time": "2021-10-03T21:42:37.242611",
     "exception": false,
     "start_time": "2021-10-03T21:42:36.940977",
     "status": "completed"
    },
    "tags": []
   }
  },
  {
   "cell_type": "markdown",
   "source": [
    "### **6. Defining Custom Classificater Class**\n",
    "\n",
    "##### -> Fine tuning pre-trained bert\n",
    "##### -> Regularization with dropout probability 0.25\n",
    "##### -> n_classes = 2"
   ],
   "metadata": {
    "execution": {
     "iopub.execute_input": "2021-10-03T03:27:55.23442Z",
     "iopub.status.busy": "2021-10-03T03:27:55.233716Z",
     "iopub.status.idle": "2021-10-03T03:27:55.239452Z",
     "shell.execute_reply": "2021-10-03T03:27:55.2381Z",
     "shell.execute_reply.started": "2021-10-03T03:27:55.234381Z"
    },
    "papermill": {
     "duration": 0.293824,
     "end_time": "2021-10-03T21:42:37.827330",
     "exception": false,
     "start_time": "2021-10-03T21:42:37.533506",
     "status": "completed"
    },
    "tags": []
   }
  },
  {
   "cell_type": "code",
   "execution_count": 35,
   "source": [
    "class SentimentClassifier(nn.Module):\n",
    "   def __init__(self, n_classes):\n",
    "     super(SentimentClassifier, self).__init__()\n",
    "     self.bert = BertModel.from_pretrained(PRE_TRAINED_MODEL_NAME)\n",
    "     self.drop = nn.Dropout(p=0.25)                                 \n",
    "     self.out = nn.Linear(self.bert.config.hidden_size, n_classes) \n",
    "  \n",
    "   def forward(self, input_ids, attention_mask):\n",
    "     returned = self.bert(\n",
    "       input_ids=input_ids,\n",
    "       attention_mask=attention_mask\n",
    "     )\n",
    "     pooled_output = returned[\"pooler_output\"]\n",
    "     output = self.drop(pooled_output)\n",
    "     return self.out(output)"
   ],
   "outputs": [],
   "metadata": {
    "execution": {
     "iopub.execute_input": "2021-10-03T21:42:38.419345Z",
     "iopub.status.busy": "2021-10-03T21:42:38.418445Z",
     "iopub.status.idle": "2021-10-03T21:42:38.421064Z",
     "shell.execute_reply": "2021-10-03T21:42:38.420584Z",
     "shell.execute_reply.started": "2021-10-03T21:37:12.333198Z"
    },
    "id": "EHwEKJgyRnt-",
    "papermill": {
     "duration": 0.301351,
     "end_time": "2021-10-03T21:42:38.421181",
     "exception": false,
     "start_time": "2021-10-03T21:42:38.119830",
     "status": "completed"
    },
    "tags": []
   }
  },
  {
   "cell_type": "code",
   "execution_count": 36,
   "source": [
    "model = SentimentClassifier(2)\n",
    "model = model.to(device)"
   ],
   "outputs": [],
   "metadata": {
    "execution": {
     "iopub.execute_input": "2021-10-03T21:42:39.015611Z",
     "iopub.status.busy": "2021-10-03T21:42:39.014536Z",
     "iopub.status.idle": "2021-10-03T21:42:49.136330Z",
     "shell.execute_reply": "2021-10-03T21:42:49.135843Z",
     "shell.execute_reply.started": "2021-10-03T21:37:12.347379Z"
    },
    "id": "MeK_7eLsSCwm",
    "papermill": {
     "duration": 10.42335,
     "end_time": "2021-10-03T21:42:49.136486",
     "exception": false,
     "start_time": "2021-10-03T21:42:38.713136",
     "status": "completed"
    },
    "tags": []
   }
  },
  {
   "cell_type": "code",
   "execution_count": 37,
   "source": [
    "input_ids = data['input_ids'].to(device)\n",
    "attention_mask = data['attention_mask'].to(device)\n",
    "print(input_ids.shape)      # batch size x seq length\n",
    "print(attention_mask.shape) # batch size x seq length"
   ],
   "outputs": [
    {
     "output_type": "stream",
     "name": "stdout",
     "text": [
      "torch.Size([16, 150])\n",
      "torch.Size([16, 150])\n"
     ]
    }
   ],
   "metadata": {
    "execution": {
     "iopub.execute_input": "2021-10-03T21:42:49.734697Z",
     "iopub.status.busy": "2021-10-03T21:42:49.734085Z",
     "iopub.status.idle": "2021-10-03T21:42:49.737029Z",
     "shell.execute_reply": "2021-10-03T21:42:49.737444Z",
     "shell.execute_reply.started": "2021-10-03T21:37:16.545477Z"
    },
    "id": "gGpkHCCSV7fZ",
    "papermill": {
     "duration": 0.300496,
     "end_time": "2021-10-03T21:42:49.737601",
     "exception": false,
     "start_time": "2021-10-03T21:42:49.437105",
     "status": "completed"
    },
    "tags": []
   }
  },
  {
   "cell_type": "code",
   "execution_count": 38,
   "source": [
    "F.softmax(model(input_ids, attention_mask), dim=1)"
   ],
   "outputs": [
    {
     "output_type": "execute_result",
     "data": {
      "text/plain": [
       "tensor([[0.3048, 0.6952],\n",
       "        [0.3100, 0.6900],\n",
       "        [0.2219, 0.7781],\n",
       "        [0.2540, 0.7460],\n",
       "        [0.3139, 0.6861],\n",
       "        [0.3949, 0.6051],\n",
       "        [0.3090, 0.6910],\n",
       "        [0.4365, 0.5635],\n",
       "        [0.4222, 0.5778],\n",
       "        [0.4008, 0.5992],\n",
       "        [0.3082, 0.6918],\n",
       "        [0.3500, 0.6500],\n",
       "        [0.2750, 0.7250],\n",
       "        [0.3568, 0.6432],\n",
       "        [0.3492, 0.6508],\n",
       "        [0.3940, 0.6060]], device='cuda:0', grad_fn=<SoftmaxBackward>)"
      ]
     },
     "metadata": {},
     "execution_count": 38
    }
   ],
   "metadata": {
    "execution": {
     "iopub.execute_input": "2021-10-03T21:42:50.334260Z",
     "iopub.status.busy": "2021-10-03T21:42:50.333653Z",
     "iopub.status.idle": "2021-10-03T21:42:50.494668Z",
     "shell.execute_reply": "2021-10-03T21:42:50.495095Z",
     "shell.execute_reply.started": "2021-10-03T21:37:16.558798Z"
    },
    "id": "m-KavbOjWbi8",
    "papermill": {
     "duration": 0.461101,
     "end_time": "2021-10-03T21:42:50.495244",
     "exception": false,
     "start_time": "2021-10-03T21:42:50.034143",
     "status": "completed"
    },
    "tags": []
   }
  },
  {
   "cell_type": "code",
   "execution_count": 39,
   "source": [
    "EPOCHS = 8\n",
    "learning_rate = 2e-5\n",
    "\n",
    "optimizer = AdamW(model.parameters(), lr=learning_rate, correct_bias=False)\n",
    "total_steps = len(train_data_loader) * EPOCHS\n",
    "\n",
    "scheduler = get_linear_schedule_with_warmup(\n",
    "  optimizer,\n",
    "  num_warmup_steps=0,\n",
    "  num_training_steps=total_steps\n",
    ")\n",
    "\n",
    "loss_fn = nn.CrossEntropyLoss().to(device)"
   ],
   "outputs": [],
   "metadata": {
    "execution": {
     "iopub.execute_input": "2021-10-03T21:42:51.107354Z",
     "iopub.status.busy": "2021-10-03T21:42:51.106505Z",
     "iopub.status.idle": "2021-10-03T21:42:51.108491Z",
     "shell.execute_reply": "2021-10-03T21:42:51.108895Z",
     "shell.execute_reply.started": "2021-10-03T21:37:16.674228Z"
    },
    "id": "uuSH_Y7fWgQH",
    "papermill": {
     "duration": 0.3078,
     "end_time": "2021-10-03T21:42:51.109027",
     "exception": false,
     "start_time": "2021-10-03T21:42:50.801227",
     "status": "completed"
    },
    "tags": []
   }
  },
  {
   "cell_type": "markdown",
   "source": [
    "\n",
    "### **7. Model Training**\n",
    "\n",
    "train_task, eval_task functions in preparation to train the model.\n",
    "\n",
    "-> clip the gradients to avoid exploding gradients."
   ],
   "metadata": {
    "papermill": {
     "duration": 0.298846,
     "end_time": "2021-10-03T21:42:51.700038",
     "exception": false,
     "start_time": "2021-10-03T21:42:51.401192",
     "status": "completed"
    },
    "tags": []
   }
  },
  {
   "cell_type": "code",
   "execution_count": 40,
   "source": [
    "# View optimizers that you could choose from"
   ],
   "outputs": [],
   "metadata": {
    "execution": {
     "iopub.execute_input": "2021-10-03T21:42:52.289975Z",
     "iopub.status.busy": "2021-10-03T21:42:52.289143Z",
     "iopub.status.idle": "2021-10-03T21:42:52.291102Z",
     "shell.execute_reply": "2021-10-03T21:42:52.291560Z",
     "shell.execute_reply.started": "2021-10-03T21:37:16.690827Z"
    },
    "papermill": {
     "duration": 0.298133,
     "end_time": "2021-10-03T21:42:52.291696",
     "exception": false,
     "start_time": "2021-10-03T21:42:51.993563",
     "status": "completed"
    },
    "tags": []
   }
  },
  {
   "cell_type": "code",
   "execution_count": 41,
   "source": [
    "def train_task(\n",
    "   model, \n",
    "   data_loader, \n",
    "   loss_fn, \n",
    "   optimizer, \n",
    "   device, \n",
    "   scheduler, \n",
    "   n_examples\n",
    " ):\n",
    "   model = model.train()\n",
    "   losses = []\n",
    "   correct_predictions = 0\n",
    "   for d in data_loader:\n",
    "     input_ids = d[\"input_ids\"].to(device)\n",
    "     attention_mask = d[\"attention_mask\"].to(device)\n",
    "     targets = d[\"targets\"].to(device)\n",
    "     outputs = model(\n",
    "       input_ids=input_ids,\n",
    "       attention_mask=attention_mask\n",
    "     )\n",
    "     max_prob, preds = torch.max(outputs, dim=1)    # Returns 2 tensors, one with max_probability and another with the respective predicted label.\n",
    "     loss = loss_fn(outputs, targets)\n",
    "     correct_predictions += torch.sum(preds == targets)\n",
    "     losses.append(loss.item())\n",
    "     loss.backward()     \n",
    "     nn.utils.clip_grad_norm_(model.parameters(), max_norm=1.0)  \n",
    "     optimizer.step()\n",
    "     scheduler.step()\n",
    "     optimizer.zero_grad()\n",
    "   return correct_predictions.double() / n_examples, np.mean(losses)     # Return the mean loss and the ratio of correct predictions. \n"
   ],
   "outputs": [],
   "metadata": {
    "execution": {
     "iopub.execute_input": "2021-10-03T21:42:53.115947Z",
     "iopub.status.busy": "2021-10-03T21:42:53.115082Z",
     "iopub.status.idle": "2021-10-03T21:42:53.117170Z",
     "shell.execute_reply": "2021-10-03T21:42:53.117561Z",
     "shell.execute_reply.started": "2021-10-03T21:37:16.698678Z"
    },
    "id": "gMstN6w6ay-6",
    "papermill": {
     "duration": 0.501492,
     "end_time": "2021-10-03T21:42:53.117704",
     "exception": false,
     "start_time": "2021-10-03T21:42:52.616212",
     "status": "completed"
    },
    "tags": []
   }
  },
  {
   "cell_type": "code",
   "execution_count": 42,
   "source": [
    "def eval_task(model, data_loader, loss_fn, device, n_examples):\n",
    "  model = model.eval()\n",
    "  losses = []\n",
    "  correct_predictions = 0\n",
    "  with torch.no_grad():\n",
    "    for d in data_loader:\n",
    "      input_ids = d[\"input_ids\"].to(device)\n",
    "      attention_mask = d[\"attention_mask\"].to(device)\n",
    "      targets = d[\"targets\"].to(device)\n",
    "\n",
    "      outputs = model(\n",
    "        input_ids=input_ids,\n",
    "        attention_mask=attention_mask)\n",
    "        \n",
    "      _, preds = torch.max(outputs, dim=1)\n",
    "\n",
    "      loss = loss_fn(outputs, targets)\n",
    "\n",
    "      correct_predictions += torch.sum(preds == targets)\n",
    "      losses.append(loss.item())\n",
    "\n",
    "  return correct_predictions.double() / n_examples, np.mean(losses)"
   ],
   "outputs": [],
   "metadata": {
    "execution": {
     "iopub.execute_input": "2021-10-03T21:42:53.709990Z",
     "iopub.status.busy": "2021-10-03T21:42:53.709130Z",
     "iopub.status.idle": "2021-10-03T21:42:53.711538Z",
     "shell.execute_reply": "2021-10-03T21:42:53.711116Z",
     "shell.execute_reply.started": "2021-10-03T21:37:16.713820Z"
    },
    "id": "CXeRorVGIKre",
    "papermill": {
     "duration": 0.301444,
     "end_time": "2021-10-03T21:42:53.711653",
     "exception": false,
     "start_time": "2021-10-03T21:42:53.410209",
     "status": "completed"
    },
    "tags": []
   }
  },
  {
   "cell_type": "markdown",
   "source": [
    "This defines a trained model optimized with the Adam optimizer, all the while tracking the accuracy using val_acc metric. We also track Loss on the validation set and track variables for monitoring progress\n"
   ],
   "metadata": {
    "papermill": {
     "duration": 0.292184,
     "end_time": "2021-10-03T21:42:54.298733",
     "exception": false,
     "start_time": "2021-10-03T21:42:54.006549",
     "status": "completed"
    },
    "tags": []
   }
  },
  {
   "cell_type": "code",
   "execution_count": 43,
   "source": [
    " history = defaultdict(list)          \n",
    " best_accuracy = 0                    \n",
    " for epoch in range(EPOCHS):\n",
    "   print(f'Epoch {epoch + 1}/{EPOCHS}')\n",
    "   train_acc, train_loss = train_task(\n",
    "     model,\n",
    "     train_data_loader,    \n",
    "     loss_fn, \n",
    "     optimizer, \n",
    "     device, \n",
    "     scheduler, \n",
    "     len(df_train)\n",
    "   )\n",
    "   print(f'Train loss {train_loss} accuracy {train_acc}')\n",
    "   val_acc, val_loss = eval_task(\n",
    "     model,\n",
    "     val_data_loader,\n",
    "     loss_fn, \n",
    "     device, \n",
    "     len(df_valid)\n",
    "   )\n",
    "   print(f'Val   loss {val_loss} accuracy {val_acc}')\n",
    "   history['train_acc'].append(train_acc)\n",
    "   history['train_loss'].append(train_loss)\n",
    "   history['val_acc'].append(val_acc)\n",
    "   history['val_loss'].append(val_loss)\n",
    "   if val_acc > best_accuracy:\n",
    "     torch.save(model.state_dict(), 'best_model_state_dict.pth')\n",
    "     best_accuracy = val_acc"
   ],
   "outputs": [
    {
     "output_type": "stream",
     "name": "stdout",
     "text": [
      "Epoch 1/8\n",
      "Train loss 0.46184448503553865 accuracy 0.797625\n",
      "Val   loss 0.3920545827704497 accuracy 0.8518\n",
      "Epoch 2/8\n",
      "Train loss 0.3454883549891412 accuracy 0.872\n",
      "Val   loss 0.3358965750557546 accuracy 0.866\n",
      "Epoch 3/8\n",
      "Train loss 0.29002166023552417 accuracy 0.895475\n",
      "Val   loss 0.3082994843919437 accuracy 0.8764000000000001\n",
      "Epoch 4/8\n",
      "Train loss 0.2534257645267993 accuracy 0.9168000000000001\n",
      "Val   loss 0.357514533794488 accuracy 0.8812000000000001\n",
      "Epoch 5/8\n",
      "Train loss 0.22742256539892405 accuracy 0.93305\n",
      "Val   loss 0.42456479513416656 accuracy 0.8792000000000001\n",
      "Epoch 6/8\n",
      "Train loss 0.2083029576715082 accuracy 0.944725\n",
      "Val   loss 0.4274790089089459 accuracy 0.8772000000000001\n",
      "Epoch 7/8\n",
      "Train loss 0.19155926978271454 accuracy 0.9528500000000001\n",
      "Val   loss 0.43226904981135844 accuracy 0.883\n",
      "Epoch 8/8\n",
      "Train loss 0.17519114357437937 accuracy 0.95755\n",
      "Val   loss 0.5074051142708895 accuracy 0.881\n"
     ]
    }
   ],
   "metadata": {
    "execution": {
     "iopub.execute_input": "2021-10-03T21:42:54.901493Z",
     "iopub.status.busy": "2021-10-03T21:42:54.900681Z",
     "iopub.status.idle": "2021-10-03T23:25:35.144630Z",
     "shell.execute_reply": "2021-10-03T23:25:35.145170Z"
    },
    "id": "FXf-ose6bLtx",
    "papermill": {
     "duration": 6160.543315,
     "end_time": "2021-10-03T23:25:35.145389",
     "exception": false,
     "start_time": "2021-10-03T21:42:54.602074",
     "status": "completed"
    },
    "tags": []
   }
  },
  {
   "cell_type": "code",
   "execution_count": 44,
   "source": [
    "plt.plot(history['train_acc'], label='train accuracy')\n",
    "plt.plot(history['val_acc'], label='validation accuracy')\n",
    "plt.title('Training history')\n",
    "plt.ylabel('Accuracy')\n",
    "plt.xlabel('Epoch')\n",
    "plt.legend()\n",
    "plt.ylim([0, 1])"
   ],
   "outputs": [
    {
     "output_type": "execute_result",
     "data": {
      "text/plain": [
       "(0.0, 1.0)"
      ]
     },
     "metadata": {},
     "execution_count": 44
    },
    {
     "output_type": "display_data",
     "data": {
      "image/png": "[encoded data removed]",
      "text/plain": [
       "<Figure size 864x576 with 1 Axes>"
      ]
     },
     "metadata": {
      "image/png": {
       "height": 506,
       "width": 732
      }
     }
    }
   ],
   "metadata": {
    "execution": {
     "iopub.execute_input": "2021-10-03T23:25:35.767553Z",
     "iopub.status.busy": "2021-10-03T23:25:35.758898Z",
     "iopub.status.idle": "2021-10-03T23:25:36.191069Z",
     "shell.execute_reply": "2021-10-03T23:25:36.190653Z"
    },
    "id": "CKvCaKWnbS1N",
    "papermill": {
     "duration": 0.745761,
     "end_time": "2021-10-03T23:25:36.191189",
     "exception": false,
     "start_time": "2021-10-03T23:25:35.445428",
     "status": "completed"
    },
    "tags": []
   }
  },
  {
   "cell_type": "code",
   "execution_count": 45,
   "source": [
    "test_acc, _ = eval_task(\n",
    "  model,\n",
    "  test_data_loader,\n",
    "  loss_fn,\n",
    "  device,\n",
    "  len(df_test)\n",
    ")\n",
    "test_acc.item()\n"
   ],
   "outputs": [
    {
     "output_type": "execute_result",
     "data": {
      "text/plain": [
       "0.8814000000000001"
      ]
     },
     "metadata": {},
     "execution_count": 45
    }
   ],
   "metadata": {
    "execution": {
     "iopub.execute_input": "2021-10-03T23:25:36.801445Z",
     "iopub.status.busy": "2021-10-03T23:25:36.800120Z",
     "iopub.status.idle": "2021-10-03T23:26:08.178810Z",
     "shell.execute_reply": "2021-10-03T23:26:08.179265Z"
    },
    "id": "cJw3xfbNbjkc",
    "papermill": {
     "duration": 31.686197,
     "end_time": "2021-10-03T23:26:08.179417",
     "exception": false,
     "start_time": "2021-10-03T23:25:36.493220",
     "status": "completed"
    },
    "tags": []
   }
  },
  {
   "cell_type": "markdown",
   "source": [
    "### **8. Making a prediction**\n"
   ],
   "metadata": {
    "papermill": {
     "duration": 0.301579,
     "end_time": "2021-10-03T23:26:08.783883",
     "exception": false,
     "start_time": "2021-10-03T23:26:08.482304",
     "status": "completed"
    },
    "tags": []
   }
  },
  {
   "cell_type": "code",
   "execution_count": 46,
   "source": [
    "def get_predictions(model, data_loader):\n",
    "  model = model.eval()\n",
    "  review_texts = []\n",
    "  predictions = []\n",
    "  prediction_probs = []\n",
    "  real_values = []\n",
    "  with torch.no_grad():\n",
    "    for d in data_loader:\n",
    "      texts = d[\"review_text\"]\n",
    "      input_ids = d[\"input_ids\"].to(device)\n",
    "      attention_mask = d[\"attention_mask\"].to(device)\n",
    "      targets = d[\"targets\"].to(device)\n",
    "      outputs = model(\n",
    "        input_ids=input_ids,\n",
    "        attention_mask=attention_mask\n",
    "      )\n",
    "      _, preds = torch.max(outputs, dim=1)\n",
    "      review_texts.extend(texts)\n",
    "      predictions.extend(preds)\n",
    "      prediction_probs.extend(outputs)\n",
    "      real_values.extend(targets)\n",
    "  predictions = torch.stack(predictions).cpu()\n",
    "  prediction_probs = torch.stack(prediction_probs).cpu()\n",
    "  real_values = torch.stack(real_values).cpu()\n",
    "  return review_texts, predictions, prediction_probs, real_values"
   ],
   "outputs": [],
   "metadata": {
    "execution": {
     "iopub.execute_input": "2021-10-03T23:26:09.395699Z",
     "iopub.status.busy": "2021-10-03T23:26:09.394884Z",
     "iopub.status.idle": "2021-10-03T23:26:09.399062Z",
     "shell.execute_reply": "2021-10-03T23:26:09.398286Z"
    },
    "id": "7JVixDoTb6I5",
    "papermill": {
     "duration": 0.313856,
     "end_time": "2021-10-03T23:26:09.399188",
     "exception": false,
     "start_time": "2021-10-03T23:26:09.085332",
     "status": "completed"
    },
    "tags": []
   }
  },
  {
   "cell_type": "code",
   "execution_count": 47,
   "source": [
    "y_review_texts, y_pred, y_pred_probs, y_test = get_predictions(\n",
    "  model,\n",
    "  test_data_loader\n",
    ")"
   ],
   "outputs": [],
   "metadata": {
    "execution": {
     "iopub.execute_input": "2021-10-03T23:26:10.008889Z",
     "iopub.status.busy": "2021-10-03T23:26:10.007978Z",
     "iopub.status.idle": "2021-10-03T23:26:39.578900Z",
     "shell.execute_reply": "2021-10-03T23:26:39.578374Z"
    },
    "papermill": {
     "duration": 29.879751,
     "end_time": "2021-10-03T23:26:39.579038",
     "exception": false,
     "start_time": "2021-10-03T23:26:09.699287",
     "status": "completed"
    },
    "tags": []
   }
  },
  {
   "cell_type": "code",
   "execution_count": 48,
   "source": [
    "# def load_model(model: nn.Module, path: Path) -> Tuple:\n",
    "#     state = torch.load(str(path))\n",
    "#     model.load_state_dict(state['model'])\n",
    "#     print('Loaded model from epoch {epoch}'.format(**state))\n",
    "#     return state, state['best_valid_loss']"
   ],
   "outputs": [],
   "metadata": {
    "execution": {
     "iopub.execute_input": "2021-10-03T23:26:40.188567Z",
     "iopub.status.busy": "2021-10-03T23:26:40.186997Z",
     "iopub.status.idle": "2021-10-03T23:26:40.189151Z",
     "shell.execute_reply": "2021-10-03T23:26:40.189560Z"
    },
    "papermill": {
     "duration": 0.307161,
     "end_time": "2021-10-03T23:26:40.189694",
     "exception": false,
     "start_time": "2021-10-03T23:26:39.882533",
     "status": "completed"
    },
    "tags": []
   }
  },
  {
   "cell_type": "markdown",
   "source": [
    "### **9. Accuracy Report**\n"
   ],
   "metadata": {
    "execution": {
     "iopub.execute_input": "2021-10-03T04:56:07.425629Z",
     "iopub.status.busy": "2021-10-03T04:56:07.425223Z",
     "iopub.status.idle": "2021-10-03T04:56:07.445894Z",
     "shell.execute_reply": "2021-10-03T04:56:07.444999Z",
     "shell.execute_reply.started": "2021-10-03T04:56:07.425546Z"
    },
    "papermill": {
     "duration": 0.316465,
     "end_time": "2021-10-03T23:26:40.806984",
     "exception": false,
     "start_time": "2021-10-03T23:26:40.490519",
     "status": "completed"
    },
    "tags": []
   }
  },
  {
   "cell_type": "code",
   "execution_count": 49,
   "source": [
    "target_names = ['class_0','class_1']\n",
    "print(classification_report(y_test, y_pred, target_names=target_names))"
   ],
   "outputs": [
    {
     "output_type": "stream",
     "name": "stdout",
     "text": [
      "              precision    recall  f1-score   support\n",
      "\n",
      "     class_0       0.90      0.86      0.88      2495\n",
      "     class_1       0.86      0.90      0.88      2505\n",
      "\n",
      "    accuracy                           0.88      5000\n",
      "   macro avg       0.88      0.88      0.88      5000\n",
      "weighted avg       0.88      0.88      0.88      5000\n",
      "\n"
     ]
    }
   ],
   "metadata": {
    "execution": {
     "iopub.execute_input": "2021-10-03T23:26:41.414005Z",
     "iopub.status.busy": "2021-10-03T23:26:41.413142Z",
     "iopub.status.idle": "2021-10-03T23:26:41.426828Z",
     "shell.execute_reply": "2021-10-03T23:26:41.426375Z"
    },
    "papermill": {
     "duration": 0.318329,
     "end_time": "2021-10-03T23:26:41.426939",
     "exception": false,
     "start_time": "2021-10-03T23:26:41.108610",
     "status": "completed"
    },
    "tags": []
   }
  },
  {
   "cell_type": "markdown",
   "source": [
    "### **10. Confusion Matrix**\n"
   ],
   "metadata": {
    "execution": {
     "iopub.execute_input": "2021-10-03T17:17:16.717778Z",
     "iopub.status.busy": "2021-10-03T17:17:16.717488Z",
     "iopub.status.idle": "2021-10-03T17:17:16.721423Z",
     "shell.execute_reply": "2021-10-03T17:17:16.720707Z",
     "shell.execute_reply.started": "2021-10-03T17:17:16.717748Z"
    },
    "papermill": {
     "duration": 0.305117,
     "end_time": "2021-10-03T23:26:42.036957",
     "exception": false,
     "start_time": "2021-10-03T23:26:41.731840",
     "status": "completed"
    },
    "tags": []
   }
  },
  {
   "cell_type": "code",
   "execution_count": 50,
   "source": [
    "matrix = confusion_matrix(y_test,y_pred, labels=[1,0])\n",
    "print('Confusion matrix : \\n',matrix)\n"
   ],
   "outputs": [
    {
     "output_type": "stream",
     "name": "stdout",
     "text": [
      "Confusion matrix : \n",
      " [[2267  238]\n",
      " [ 355 2140]]\n"
     ]
    }
   ],
   "metadata": {
    "execution": {
     "iopub.execute_input": "2021-10-03T23:26:42.654185Z",
     "iopub.status.busy": "2021-10-03T23:26:42.653379Z",
     "iopub.status.idle": "2021-10-03T23:26:42.665703Z",
     "shell.execute_reply": "2021-10-03T23:26:42.665117Z"
    },
    "papermill": {
     "duration": 0.32413,
     "end_time": "2021-10-03T23:26:42.665866",
     "exception": false,
     "start_time": "2021-10-03T23:26:42.341736",
     "status": "completed"
    },
    "tags": []
   }
  },
  {
   "cell_type": "code",
   "execution_count": 51,
   "source": [
    "import seaborn as sns\n",
    "sns.heatmap(matrix/np.sum(matrix), annot=True, \n",
    "            fmt='.2%', cmap='Blues')\n"
   ],
   "outputs": [
    {
     "output_type": "execute_result",
     "data": {
      "text/plain": [
       "<AxesSubplot:>"
      ]
     },
     "metadata": {},
     "execution_count": 51
    },
    {
     "output_type": "display_data",
     "data": {
      "image/png": "[encoded data removed]",
      "text/plain": [
       "<Figure size 864x576 with 2 Axes>"
      ]
     },
     "metadata": {
      "image/png": {
       "height": 473,
       "width": 666
      }
     }
    }
   ],
   "metadata": {
    "execution": {
     "iopub.execute_input": "2021-10-03T23:26:43.318948Z",
     "iopub.status.busy": "2021-10-03T23:26:43.304761Z",
     "iopub.status.idle": "2021-10-03T23:26:43.663757Z",
     "shell.execute_reply": "2021-10-03T23:26:43.663318Z"
    },
    "papermill": {
     "duration": 0.690618,
     "end_time": "2021-10-03T23:26:43.663876",
     "exception": false,
     "start_time": "2021-10-03T23:26:42.973258",
     "status": "completed"
    },
    "tags": []
   }
  },
  {
   "cell_type": "markdown",
   "source": [
    "### ----------End-------"
   ],
   "metadata": {
    "papermill": {
     "duration": 0.51414,
     "end_time": "2021-10-03T23:26:45.366550",
     "exception": false,
     "start_time": "2021-10-03T23:26:44.852410",
     "status": "completed"
    },
    "tags": []
   }
  },
  {
   "cell_type": "code",
   "execution_count": 52,
   "source": [
    "print(model.parameters)"
   ],
   "outputs": [
    {
     "output_type": "stream",
     "name": "stdout",
     "text": [
      "<bound method Module.parameters of SentimentClassifier(\n",
      "  (bert): BertModel(\n",
      "    (embeddings): BertEmbeddings(\n",
      "      (word_embeddings): Embedding(30522, 768, padding_idx=0)\n",
      "      (position_embeddings): Embedding(512, 768)\n",
      "      (token_type_embeddings): Embedding(2, 768)\n",
      "      (LayerNorm): LayerNorm((768,), eps=1e-12, elementwise_affine=True)\n",
      "      (dropout): Dropout(p=0.1, inplace=False)\n",
      "    )\n",
      "    (encoder): BertEncoder(\n",
      "      (layer): ModuleList(\n",
      "        (0): BertLayer(\n",
      "          (attention): BertAttention(\n",
      "            (self): BertSelfAttention(\n",
      "              (query): Linear(in_features=768, out_features=768, bias=True)\n",
      "              (key): Linear(in_features=768, out_features=768, bias=True)\n",
      "              (value): Linear(in_features=768, out_features=768, bias=True)\n",
      "              (dropout): Dropout(p=0.1, inplace=False)\n",
      "            )\n",
      "            (output): BertSelfOutput(\n",
      "              (dense): Linear(in_features=768, out_features=768, bias=True)\n",
      "              (LayerNorm): LayerNorm((768,), eps=1e-12, elementwise_affine=True)\n",
      "              (dropout): Dropout(p=0.1, inplace=False)\n",
      "            )\n",
      "          )\n",
      "          (intermediate): BertIntermediate(\n",
      "            (dense): Linear(in_features=768, out_features=3072, bias=True)\n",
      "          )\n",
      "          (output): BertOutput(\n",
      "            (dense): Linear(in_features=3072, out_features=768, bias=True)\n",
      "            (LayerNorm): LayerNorm((768,), eps=1e-12, elementwise_affine=True)\n",
      "            (dropout): Dropout(p=0.1, inplace=False)\n",
      "          )\n",
      "        )\n",
      "        (1): BertLayer(\n",
      "          (attention): BertAttention(\n",
      "            (self): BertSelfAttention(\n",
      "              (query): Linear(in_features=768, out_features=768, bias=True)\n",
      "              (key): Linear(in_features=768, out_features=768, bias=True)\n",
      "              (value): Linear(in_features=768, out_features=768, bias=True)\n",
      "              (dropout): Dropout(p=0.1, inplace=False)\n",
      "            )\n",
      "            (output): BertSelfOutput(\n",
      "              (dense): Linear(in_features=768, out_features=768, bias=True)\n",
      "              (LayerNorm): LayerNorm((768,), eps=1e-12, elementwise_affine=True)\n",
      "              (dropout): Dropout(p=0.1, inplace=False)\n",
      "            )\n",
      "          )\n",
      "          (intermediate): BertIntermediate(\n",
      "            (dense): Linear(in_features=768, out_features=3072, bias=True)\n",
      "          )\n",
      "          (output): BertOutput(\n",
      "            (dense): Linear(in_features=3072, out_features=768, bias=True)\n",
      "            (LayerNorm): LayerNorm((768,), eps=1e-12, elementwise_affine=True)\n",
      "            (dropout): Dropout(p=0.1, inplace=False)\n",
      "          )\n",
      "        )\n",
      "        (2): BertLayer(\n",
      "          (attention): BertAttention(\n",
      "            (self): BertSelfAttention(\n",
      "              (query): Linear(in_features=768, out_features=768, bias=True)\n",
      "              (key): Linear(in_features=768, out_features=768, bias=True)\n",
      "              (value): Linear(in_features=768, out_features=768, bias=True)\n",
      "              (dropout): Dropout(p=0.1, inplace=False)\n",
      "            )\n",
      "            (output): BertSelfOutput(\n",
      "              (dense): Linear(in_features=768, out_features=768, bias=True)\n",
      "              (LayerNorm): LayerNorm((768,), eps=1e-12, elementwise_affine=True)\n",
      "              (dropout): Dropout(p=0.1, inplace=False)\n",
      "            )\n",
      "          )\n",
      "          (intermediate): BertIntermediate(\n",
      "            (dense): Linear(in_features=768, out_features=3072, bias=True)\n",
      "          )\n",
      "          (output): BertOutput(\n",
      "            (dense): Linear(in_features=3072, out_features=768, bias=True)\n",
      "            (LayerNorm): LayerNorm((768,), eps=1e-12, elementwise_affine=True)\n",
      "            (dropout): Dropout(p=0.1, inplace=False)\n",
      "          )\n",
      "        )\n",
      "        (3): BertLayer(\n",
      "          (attention): BertAttention(\n",
      "            (self): BertSelfAttention(\n",
      "              (query): Linear(in_features=768, out_features=768, bias=True)\n",
      "              (key): Linear(in_features=768, out_features=768, bias=True)\n",
      "              (value): Linear(in_features=768, out_features=768, bias=True)\n",
      "              (dropout): Dropout(p=0.1, inplace=False)\n",
      "            )\n",
      "            (output): BertSelfOutput(\n",
      "              (dense): Linear(in_features=768, out_features=768, bias=True)\n",
      "              (LayerNorm): LayerNorm((768,), eps=1e-12, elementwise_affine=True)\n",
      "              (dropout): Dropout(p=0.1, inplace=False)\n",
      "            )\n",
      "          )\n",
      "          (intermediate): BertIntermediate(\n",
      "            (dense): Linear(in_features=768, out_features=3072, bias=True)\n",
      "          )\n",
      "          (output): BertOutput(\n",
      "            (dense): Linear(in_features=3072, out_features=768, bias=True)\n",
      "            (LayerNorm): LayerNorm((768,), eps=1e-12, elementwise_affine=True)\n",
      "            (dropout): Dropout(p=0.1, inplace=False)\n",
      "          )\n",
      "        )\n",
      "        (4): BertLayer(\n",
      "          (attention): BertAttention(\n",
      "            (self): BertSelfAttention(\n",
      "              (query): Linear(in_features=768, out_features=768, bias=True)\n",
      "              (key): Linear(in_features=768, out_features=768, bias=True)\n",
      "              (value): Linear(in_features=768, out_features=768, bias=True)\n",
      "              (dropout): Dropout(p=0.1, inplace=False)\n",
      "            )\n",
      "            (output): BertSelfOutput(\n",
      "              (dense): Linear(in_features=768, out_features=768, bias=True)\n",
      "              (LayerNorm): LayerNorm((768,), eps=1e-12, elementwise_affine=True)\n",
      "              (dropout): Dropout(p=0.1, inplace=False)\n",
      "            )\n",
      "          )\n",
      "          (intermediate): BertIntermediate(\n",
      "            (dense): Linear(in_features=768, out_features=3072, bias=True)\n",
      "          )\n",
      "          (output): BertOutput(\n",
      "            (dense): Linear(in_features=3072, out_features=768, bias=True)\n",
      "            (LayerNorm): LayerNorm((768,), eps=1e-12, elementwise_affine=True)\n",
      "            (dropout): Dropout(p=0.1, inplace=False)\n",
      "          )\n",
      "        )\n",
      "        (5): BertLayer(\n",
      "          (attention): BertAttention(\n",
      "            (self): BertSelfAttention(\n",
      "              (query): Linear(in_features=768, out_features=768, bias=True)\n",
      "              (key): Linear(in_features=768, out_features=768, bias=True)\n",
      "              (value): Linear(in_features=768, out_features=768, bias=True)\n",
      "              (dropout): Dropout(p=0.1, inplace=False)\n",
      "            )\n",
      "            (output): BertSelfOutput(\n",
      "              (dense): Linear(in_features=768, out_features=768, bias=True)\n",
      "              (LayerNorm): LayerNorm((768,), eps=1e-12, elementwise_affine=True)\n",
      "              (dropout): Dropout(p=0.1, inplace=False)\n",
      "            )\n",
      "          )\n",
      "          (intermediate): BertIntermediate(\n",
      "            (dense): Linear(in_features=768, out_features=3072, bias=True)\n",
      "          )\n",
      "          (output): BertOutput(\n",
      "            (dense): Linear(in_features=3072, out_features=768, bias=True)\n",
      "            (LayerNorm): LayerNorm((768,), eps=1e-12, elementwise_affine=True)\n",
      "            (dropout): Dropout(p=0.1, inplace=False)\n",
      "          )\n",
      "        )\n",
      "        (6): BertLayer(\n",
      "          (attention): BertAttention(\n",
      "            (self): BertSelfAttention(\n",
      "              (query): Linear(in_features=768, out_features=768, bias=True)\n",
      "              (key): Linear(in_features=768, out_features=768, bias=True)\n",
      "              (value): Linear(in_features=768, out_features=768, bias=True)\n",
      "              (dropout): Dropout(p=0.1, inplace=False)\n",
      "            )\n",
      "            (output): BertSelfOutput(\n",
      "              (dense): Linear(in_features=768, out_features=768, bias=True)\n",
      "              (LayerNorm): LayerNorm((768,), eps=1e-12, elementwise_affine=True)\n",
      "              (dropout): Dropout(p=0.1, inplace=False)\n",
      "            )\n",
      "          )\n",
      "          (intermediate): BertIntermediate(\n",
      "            (dense): Linear(in_features=768, out_features=3072, bias=True)\n",
      "          )\n",
      "          (output): BertOutput(\n",
      "            (dense): Linear(in_features=3072, out_features=768, bias=True)\n",
      "            (LayerNorm): LayerNorm((768,), eps=1e-12, elementwise_affine=True)\n",
      "            (dropout): Dropout(p=0.1, inplace=False)\n",
      "          )\n",
      "        )\n",
      "        (7): BertLayer(\n",
      "          (attention): BertAttention(\n",
      "            (self): BertSelfAttention(\n",
      "              (query): Linear(in_features=768, out_features=768, bias=True)\n",
      "              (key): Linear(in_features=768, out_features=768, bias=True)\n",
      "              (value): Linear(in_features=768, out_features=768, bias=True)\n",
      "              (dropout): Dropout(p=0.1, inplace=False)\n",
      "            )\n",
      "            (output): BertSelfOutput(\n",
      "              (dense): Linear(in_features=768, out_features=768, bias=True)\n",
      "              (LayerNorm): LayerNorm((768,), eps=1e-12, elementwise_affine=True)\n",
      "              (dropout): Dropout(p=0.1, inplace=False)\n",
      "            )\n",
      "          )\n",
      "          (intermediate): BertIntermediate(\n",
      "            (dense): Linear(in_features=768, out_features=3072, bias=True)\n",
      "          )\n",
      "          (output): BertOutput(\n",
      "            (dense): Linear(in_features=3072, out_features=768, bias=True)\n",
      "            (LayerNorm): LayerNorm((768,), eps=1e-12, elementwise_affine=True)\n",
      "            (dropout): Dropout(p=0.1, inplace=False)\n",
      "          )\n",
      "        )\n",
      "        (8): BertLayer(\n",
      "          (attention): BertAttention(\n",
      "            (self): BertSelfAttention(\n",
      "              (query): Linear(in_features=768, out_features=768, bias=True)\n",
      "              (key): Linear(in_features=768, out_features=768, bias=True)\n",
      "              (value): Linear(in_features=768, out_features=768, bias=True)\n",
      "              (dropout): Dropout(p=0.1, inplace=False)\n",
      "            )\n",
      "            (output): BertSelfOutput(\n",
      "              (dense): Linear(in_features=768, out_features=768, bias=True)\n",
      "              (LayerNorm): LayerNorm((768,), eps=1e-12, elementwise_affine=True)\n",
      "              (dropout): Dropout(p=0.1, inplace=False)\n",
      "            )\n",
      "          )\n",
      "          (intermediate): BertIntermediate(\n",
      "            (dense): Linear(in_features=768, out_features=3072, bias=True)\n",
      "          )\n",
      "          (output): BertOutput(\n",
      "            (dense): Linear(in_features=3072, out_features=768, bias=True)\n",
      "            (LayerNorm): LayerNorm((768,), eps=1e-12, elementwise_affine=True)\n",
      "            (dropout): Dropout(p=0.1, inplace=False)\n",
      "          )\n",
      "        )\n",
      "        (9): BertLayer(\n",
      "          (attention): BertAttention(\n",
      "            (self): BertSelfAttention(\n",
      "              (query): Linear(in_features=768, out_features=768, bias=True)\n",
      "              (key): Linear(in_features=768, out_features=768, bias=True)\n",
      "              (value): Linear(in_features=768, out_features=768, bias=True)\n",
      "              (dropout): Dropout(p=0.1, inplace=False)\n",
      "            )\n",
      "            (output): BertSelfOutput(\n",
      "              (dense): Linear(in_features=768, out_features=768, bias=True)\n",
      "              (LayerNorm): LayerNorm((768,), eps=1e-12, elementwise_affine=True)\n",
      "              (dropout): Dropout(p=0.1, inplace=False)\n",
      "            )\n",
      "          )\n",
      "          (intermediate): BertIntermediate(\n",
      "            (dense): Linear(in_features=768, out_features=3072, bias=True)\n",
      "          )\n",
      "          (output): BertOutput(\n",
      "            (dense): Linear(in_features=3072, out_features=768, bias=True)\n",
      "            (LayerNorm): LayerNorm((768,), eps=1e-12, elementwise_affine=True)\n",
      "            (dropout): Dropout(p=0.1, inplace=False)\n",
      "          )\n",
      "        )\n",
      "        (10): BertLayer(\n",
      "          (attention): BertAttention(\n",
      "            (self): BertSelfAttention(\n",
      "              (query): Linear(in_features=768, out_features=768, bias=True)\n",
      "              (key): Linear(in_features=768, out_features=768, bias=True)\n",
      "              (value): Linear(in_features=768, out_features=768, bias=True)\n",
      "              (dropout): Dropout(p=0.1, inplace=False)\n",
      "            )\n",
      "            (output): BertSelfOutput(\n",
      "              (dense): Linear(in_features=768, out_features=768, bias=True)\n",
      "              (LayerNorm): LayerNorm((768,), eps=1e-12, elementwise_affine=True)\n",
      "              (dropout): Dropout(p=0.1, inplace=False)\n",
      "            )\n",
      "          )\n",
      "          (intermediate): BertIntermediate(\n",
      "            (dense): Linear(in_features=768, out_features=3072, bias=True)\n",
      "          )\n",
      "          (output): BertOutput(\n",
      "            (dense): Linear(in_features=3072, out_features=768, bias=True)\n",
      "            (LayerNorm): LayerNorm((768,), eps=1e-12, elementwise_affine=True)\n",
      "            (dropout): Dropout(p=0.1, inplace=False)\n",
      "          )\n",
      "        )\n",
      "        (11): BertLayer(\n",
      "          (attention): BertAttention(\n",
      "            (self): BertSelfAttention(\n",
      "              (query): Linear(in_features=768, out_features=768, bias=True)\n",
      "              (key): Linear(in_features=768, out_features=768, bias=True)\n",
      "              (value): Linear(in_features=768, out_features=768, bias=True)\n",
      "              (dropout): Dropout(p=0.1, inplace=False)\n",
      "            )\n",
      "            (output): BertSelfOutput(\n",
      "              (dense): Linear(in_features=768, out_features=768, bias=True)\n",
      "              (LayerNorm): LayerNorm((768,), eps=1e-12, elementwise_affine=True)\n",
      "              (dropout): Dropout(p=0.1, inplace=False)\n",
      "            )\n",
      "          )\n",
      "          (intermediate): BertIntermediate(\n",
      "            (dense): Linear(in_features=768, out_features=3072, bias=True)\n",
      "          )\n",
      "          (output): BertOutput(\n",
      "            (dense): Linear(in_features=3072, out_features=768, bias=True)\n",
      "            (LayerNorm): LayerNorm((768,), eps=1e-12, elementwise_affine=True)\n",
      "            (dropout): Dropout(p=0.1, inplace=False)\n",
      "          )\n",
      "        )\n",
      "      )\n",
      "    )\n",
      "    (pooler): BertPooler(\n",
      "      (dense): Linear(in_features=768, out_features=768, bias=True)\n",
      "      (activation): Tanh()\n",
      "    )\n",
      "  )\n",
      "  (drop): Dropout(p=0.25, inplace=False)\n",
      "  (out): Linear(in_features=768, out_features=2, bias=True)\n",
      ")>\n"
     ]
    }
   ],
   "metadata": {
    "execution": {
     "iopub.execute_input": "2021-10-03T23:26:44.281927Z",
     "iopub.status.busy": "2021-10-03T23:26:44.281235Z",
     "iopub.status.idle": "2021-10-03T23:26:44.284723Z",
     "shell.execute_reply": "2021-10-03T23:26:44.288314Z"
    },
    "papermill": {
     "duration": 0.322414,
     "end_time": "2021-10-03T23:26:44.293699",
     "exception": false,
     "start_time": "2021-10-03T23:26:43.971285",
     "status": "completed"
    },
    "tags": []
   }
  }
 ],
 "metadata": {
  "kernelspec": {
   "display_name": "Python 3",
   "language": "python",
   "name": "python3"
  },
  "language_info": {
   "codemirror_mode": {
    "name": "ipython",
    "version": 3
   },
   "file_extension": ".py",
   "mimetype": "text/x-python",
   "name": "python",
   "nbconvert_exporter": "python",
   "pygments_lexer": "ipython3",
   "version": "3.7.10"
  },
  "papermill": {
   "default_parameters": {},
   "duration": 6465.882648,
   "end_time": "2021-10-03T23:26:48.708502",
   "environment_variables": {},
   "exception": null,
   "input_path": "__notebook__.ipynb",
   "output_path": "__notebook__.ipynb",
   "parameters": {},
   "start_time": "2021-10-03T21:39:02.825854",
   "version": "2.3.3"
  },
  "widgets": {
   "application/vnd.jupyter.widget-state+json": {
    "state": {
     "05cec28451784b54b7b3463950776f1a": {
      "model_module": "@jupyter-widgets/controls",
      "model_module_version": "1.5.0",
      "model_name": "HTMLModel",
      "state": {
       "_dom_classes": [],
       "_model_module": "@jupyter-widgets/controls",
       "_model_module_version": "1.5.0",
       "_model_name": "HTMLModel",
       "_view_count": null,
       "_view_module": "@jupyter-widgets/controls",
       "_view_module_version": "1.5.0",
       "_view_name": "HTMLView",
       "description": "",
       "description_tooltip": null,
       "layout": "IPY_MODEL_34ca7b979bc94e629274f1bbd5b6d71e",
       "placeholder": "​",
       "style": "IPY_MODEL_a6e6761d5ae24ec488ff0034fa656a53",
       "value": " 440M/440M [00:14&lt;00:00, 32.8MB/s]"
      }
     },
     "0740d8f0dea8492280d22eac4f58ec58": {
      "model_module": "@jupyter-widgets/controls",
      "model_module_version": "1.5.0",
      "model_name": "DescriptionStyleModel",
      "state": {
       "_model_module": "@jupyter-widgets/controls",
       "_model_module_version": "1.5.0",
       "_model_name": "DescriptionStyleModel",
       "_view_count": null,
       "_view_module": "@jupyter-widgets/base",
       "_view_module_version": "1.2.0",
       "_view_name": "StyleView",
       "description_width": ""
      }
     },
     "0a9195563d174373bbdcf5999de70a1d": {
      "model_module": "@jupyter-widgets/base",
      "model_module_version": "1.2.0",
      "model_name": "LayoutModel",
      "state": {
       "_model_module": "@jupyter-widgets/base",
       "_model_module_version": "1.2.0",
       "_model_name": "LayoutModel",
       "_view_count": null,
       "_view_module": "@jupyter-widgets/base",
       "_view_module_version": "1.2.0",
       "_view_name": "LayoutView",
       "align_content": null,
       "align_items": null,
       "align_self": null,
       "border": null,
       "bottom": null,
       "display": null,
       "flex": null,
       "flex_flow": null,
       "grid_area": null,
       "grid_auto_columns": null,
       "grid_auto_flow": null,
       "grid_auto_rows": null,
       "grid_column": null,
       "grid_gap": null,
       "grid_row": null,
       "grid_template_areas": null,
       "grid_template_columns": null,
       "grid_template_rows": null,
       "height": null,
       "justify_content": null,
       "justify_items": null,
       "left": null,
       "margin": null,
       "max_height": null,
       "max_width": null,
       "min_height": null,
       "min_width": null,
       "object_fit": null,
       "object_position": null,
       "order": null,
       "overflow": null,
       "overflow_x": null,
       "overflow_y": null,
       "padding": null,
       "right": null,
       "top": null,
       "visibility": null,
       "width": null
      }
     },
     "124303c651fd49698c9dfaa14190e307": {
      "model_module": "@jupyter-widgets/base",
      "model_module_version": "1.2.0",
      "model_name": "LayoutModel",
      "state": {
       "_model_module": "@jupyter-widgets/base",
       "_model_module_version": "1.2.0",
       "_model_name": "LayoutModel",
       "_view_count": null,
       "_view_module": "@jupyter-widgets/base",
       "_view_module_version": "1.2.0",
       "_view_name": "LayoutView",
       "align_content": null,
       "align_items": null,
       "align_self": null,
       "border": null,
       "bottom": null,
       "display": null,
       "flex": null,
       "flex_flow": null,
       "grid_area": null,
       "grid_auto_columns": null,
       "grid_auto_flow": null,
       "grid_auto_rows": null,
       "grid_column": null,
       "grid_gap": null,
       "grid_row": null,
       "grid_template_areas": null,
       "grid_template_columns": null,
       "grid_template_rows": null,
       "height": null,
       "justify_content": null,
       "justify_items": null,
       "left": null,
       "margin": null,
       "max_height": null,
       "max_width": null,
       "min_height": null,
       "min_width": null,
       "object_fit": null,
       "object_position": null,
       "order": null,
       "overflow": null,
       "overflow_x": null,
       "overflow_y": null,
       "padding": null,
       "right": null,
       "top": null,
       "visibility": null,
       "width": null
      }
     },
     "1b7931020f3a4e0b9bdf6e3d49a0e497": {
      "model_module": "@jupyter-widgets/controls",
      "model_module_version": "1.5.0",
      "model_name": "HBoxModel",
      "state": {
       "_dom_classes": [],
       "_model_module": "@jupyter-widgets/controls",
       "_model_module_version": "1.5.0",
       "_model_name": "HBoxModel",
       "_view_count": null,
       "_view_module": "@jupyter-widgets/controls",
       "_view_module_version": "1.5.0",
       "_view_name": "HBoxView",
       "box_style": "",
       "children": [
        "IPY_MODEL_c76ebcedd778418c8228c5560a2d4826",
        "IPY_MODEL_5737c45eeab24b18b707a2020772cb1d",
        "IPY_MODEL_c5f641c58b06470ea832175a4029c03a"
       ],
       "layout": "IPY_MODEL_f9fa29b580594216be81fe02e3b4a676"
      }
     },
     "227fc9ca54fb40829a7ee7d8750741f6": {
      "model_module": "@jupyter-widgets/base",
      "model_module_version": "1.2.0",
      "model_name": "LayoutModel",
      "state": {
       "_model_module": "@jupyter-widgets/base",
       "_model_module_version": "1.2.0",
       "_model_name": "LayoutModel",
       "_view_count": null,
       "_view_module": "@jupyter-widgets/base",
       "_view_module_version": "1.2.0",
       "_view_name": "LayoutView",
       "align_content": null,
       "align_items": null,
       "align_self": null,
       "border": null,
       "bottom": null,
       "display": null,
       "flex": null,
       "flex_flow": null,
       "grid_area": null,
       "grid_auto_columns": null,
       "grid_auto_flow": null,
       "grid_auto_rows": null,
       "grid_column": null,
       "grid_gap": null,
       "grid_row": null,
       "grid_template_areas": null,
       "grid_template_columns": null,
       "grid_template_rows": null,
       "height": null,
       "justify_content": null,
       "justify_items": null,
       "left": null,
       "margin": null,
       "max_height": null,
       "max_width": null,
       "min_height": null,
       "min_width": null,
       "object_fit": null,
       "object_position": null,
       "order": null,
       "overflow": null,
       "overflow_x": null,
       "overflow_y": null,
       "padding": null,
       "right": null,
       "top": null,
       "visibility": null,
       "width": null
      }
     },
     "27a7b4bb3aae4e8bbbbc8ba6d57bf813": {
      "model_module": "@jupyter-widgets/controls",
      "model_module_version": "1.5.0",
      "model_name": "HTMLModel",
      "state": {
       "_dom_classes": [],
       "_model_module": "@jupyter-widgets/controls",
       "_model_module_version": "1.5.0",
       "_model_name": "HTMLModel",
       "_view_count": null,
       "_view_module": "@jupyter-widgets/controls",
       "_view_module_version": "1.5.0",
       "_view_name": "HTMLView",
       "description": "",
       "description_tooltip": null,
       "layout": "IPY_MODEL_124303c651fd49698c9dfaa14190e307",
       "placeholder": "​",
       "style": "IPY_MODEL_6a89643b8d6347f8853d83273461a700",
       "value": " 232k/232k [00:00&lt;00:00, 2.65MB/s]"
      }
     },
     "31c743482d394b86aec2164bf2f1c12e": {
      "model_module": "@jupyter-widgets/base",
      "model_module_version": "1.2.0",
      "model_name": "LayoutModel",
      "state": {
       "_model_module": "@jupyter-widgets/base",
       "_model_module_version": "1.2.0",
       "_model_name": "LayoutModel",
       "_view_count": null,
       "_view_module": "@jupyter-widgets/base",
       "_view_module_version": "1.2.0",
       "_view_name": "LayoutView",
       "align_content": null,
       "align_items": null,
       "align_self": null,
       "border": null,
       "bottom": null,
       "display": null,
       "flex": null,
       "flex_flow": null,
       "grid_area": null,
       "grid_auto_columns": null,
       "grid_auto_flow": null,
       "grid_auto_rows": null,
       "grid_column": null,
       "grid_gap": null,
       "grid_row": null,
       "grid_template_areas": null,
       "grid_template_columns": null,
       "grid_template_rows": null,
       "height": null,
       "justify_content": null,
       "justify_items": null,
       "left": null,
       "margin": null,
       "max_height": null,
       "max_width": null,
       "min_height": null,
       "min_width": null,
       "object_fit": null,
       "object_position": null,
       "order": null,
       "overflow": null,
       "overflow_x": null,
       "overflow_y": null,
       "padding": null,
       "right": null,
       "top": null,
       "visibility": null,
       "width": null
      }
     },
     "34ca7b979bc94e629274f1bbd5b6d71e": {
      "model_module": "@jupyter-widgets/base",
      "model_module_version": "1.2.0",
      "model_name": "LayoutModel",
      "state": {
       "_model_module": "@jupyter-widgets/base",
       "_model_module_version": "1.2.0",
       "_model_name": "LayoutModel",
       "_view_count": null,
       "_view_module": "@jupyter-widgets/base",
       "_view_module_version": "1.2.0",
       "_view_name": "LayoutView",
       "align_content": null,
       "align_items": null,
       "align_self": null,
       "border": null,
       "bottom": null,
       "display": null,
       "flex": null,
       "flex_flow": null,
       "grid_area": null,
       "grid_auto_columns": null,
       "grid_auto_flow": null,
       "grid_auto_rows": null,
       "grid_column": null,
       "grid_gap": null,
       "grid_row": null,
       "grid_template_areas": null,
       "grid_template_columns": null,
       "grid_template_rows": null,
       "height": null,
       "justify_content": null,
       "justify_items": null,
       "left": null,
       "margin": null,
       "max_height": null,
       "max_width": null,
       "min_height": null,
       "min_width": null,
       "object_fit": null,
       "object_position": null,
       "order": null,
       "overflow": null,
       "overflow_x": null,
       "overflow_y": null,
       "padding": null,
       "right": null,
       "top": null,
       "visibility": null,
       "width": null
      }
     },
     "394f49ea19094ba0b2fb69fb22b33ebe": {
      "model_module": "@jupyter-widgets/base",
      "model_module_version": "1.2.0",
      "model_name": "LayoutModel",
      "state": {
       "_model_module": "@jupyter-widgets/base",
       "_model_module_version": "1.2.0",
       "_model_name": "LayoutModel",
       "_view_count": null,
       "_view_module": "@jupyter-widgets/base",
       "_view_module_version": "1.2.0",
       "_view_name": "LayoutView",
       "align_content": null,
       "align_items": null,
       "align_self": null,
       "border": null,
       "bottom": null,
       "display": null,
       "flex": null,
       "flex_flow": null,
       "grid_area": null,
       "grid_auto_columns": null,
       "grid_auto_flow": null,
       "grid_auto_rows": null,
       "grid_column": null,
       "grid_gap": null,
       "grid_row": null,
       "grid_template_areas": null,
       "grid_template_columns": null,
       "grid_template_rows": null,
       "height": null,
       "justify_content": null,
       "justify_items": null,
       "left": null,
       "margin": null,
       "max_height": null,
       "max_width": null,
       "min_height": null,
       "min_width": null,
       "object_fit": null,
       "object_position": null,
       "order": null,
       "overflow": null,
       "overflow_x": null,
       "overflow_y": null,
       "padding": null,
       "right": null,
       "top": null,
       "visibility": null,
       "width": null
      }
     },
     "3e092d12b0a84464a60b8df84ee6502a": {
      "model_module": "@jupyter-widgets/controls",
      "model_module_version": "1.5.0",
      "model_name": "DescriptionStyleModel",
      "state": {
       "_model_module": "@jupyter-widgets/controls",
       "_model_module_version": "1.5.0",
       "_model_name": "DescriptionStyleModel",
       "_view_count": null,
       "_view_module": "@jupyter-widgets/base",
       "_view_module_version": "1.2.0",
       "_view_name": "StyleView",
       "description_width": ""
      }
     },
     "3f73f73250a94428a98c4074d5400c82": {
      "model_module": "@jupyter-widgets/base",
      "model_module_version": "1.2.0",
      "model_name": "LayoutModel",
      "state": {
       "_model_module": "@jupyter-widgets/base",
       "_model_module_version": "1.2.0",
       "_model_name": "LayoutModel",
       "_view_count": null,
       "_view_module": "@jupyter-widgets/base",
       "_view_module_version": "1.2.0",
       "_view_name": "LayoutView",
       "align_content": null,
       "align_items": null,
       "align_self": null,
       "border": null,
       "bottom": null,
       "display": null,
       "flex": null,
       "flex_flow": null,
       "grid_area": null,
       "grid_auto_columns": null,
       "grid_auto_flow": null,
       "grid_auto_rows": null,
       "grid_column": null,
       "grid_gap": null,
       "grid_row": null,
       "grid_template_areas": null,
       "grid_template_columns": null,
       "grid_template_rows": null,
       "height": null,
       "justify_content": null,
       "justify_items": null,
       "left": null,
       "margin": null,
       "max_height": null,
       "max_width": null,
       "min_height": null,
       "min_width": null,
       "object_fit": null,
       "object_position": null,
       "order": null,
       "overflow": null,
       "overflow_x": null,
       "overflow_y": null,
       "padding": null,
       "right": null,
       "top": null,
       "visibility": null,
       "width": null
      }
     },
     "448746284e684c5eb05540e9992b7049": {
      "model_module": "@jupyter-widgets/controls",
      "model_module_version": "1.5.0",
      "model_name": "ProgressStyleModel",
      "state": {
       "_model_module": "@jupyter-widgets/controls",
       "_model_module_version": "1.5.0",
       "_model_name": "ProgressStyleModel",
       "_view_count": null,
       "_view_module": "@jupyter-widgets/base",
       "_view_module_version": "1.2.0",
       "_view_name": "StyleView",
       "bar_color": null,
       "description_width": ""
      }
     },
     "44b0fceba1154f1995c6bc9a37350142": {
      "model_module": "@jupyter-widgets/controls",
      "model_module_version": "1.5.0",
      "model_name": "ProgressStyleModel",
      "state": {
       "_model_module": "@jupyter-widgets/controls",
       "_model_module_version": "1.5.0",
       "_model_name": "ProgressStyleModel",
       "_view_count": null,
       "_view_module": "@jupyter-widgets/base",
       "_view_module_version": "1.2.0",
       "_view_name": "StyleView",
       "bar_color": null,
       "description_width": ""
      }
     },
     "459bc7466ea342b7a1a9b143b4879aea": {
      "model_module": "@jupyter-widgets/base",
      "model_module_version": "1.2.0",
      "model_name": "LayoutModel",
      "state": {
       "_model_module": "@jupyter-widgets/base",
       "_model_module_version": "1.2.0",
       "_model_name": "LayoutModel",
       "_view_count": null,
       "_view_module": "@jupyter-widgets/base",
       "_view_module_version": "1.2.0",
       "_view_name": "LayoutView",
       "align_content": null,
       "align_items": null,
       "align_self": null,
       "border": null,
       "bottom": null,
       "display": null,
       "flex": null,
       "flex_flow": null,
       "grid_area": null,
       "grid_auto_columns": null,
       "grid_auto_flow": null,
       "grid_auto_rows": null,
       "grid_column": null,
       "grid_gap": null,
       "grid_row": null,
       "grid_template_areas": null,
       "grid_template_columns": null,
       "grid_template_rows": null,
       "height": null,
       "justify_content": null,
       "justify_items": null,
       "left": null,
       "margin": null,
       "max_height": null,
       "max_width": null,
       "min_height": null,
       "min_width": null,
       "object_fit": null,
       "object_position": null,
       "order": null,
       "overflow": null,
       "overflow_x": null,
       "overflow_y": null,
       "padding": null,
       "right": null,
       "top": null,
       "visibility": null,
       "width": null
      }
     },
     "507c66bf401545f3a850742a88ffcbda": {
      "model_module": "@jupyter-widgets/controls",
      "model_module_version": "1.5.0",
      "model_name": "DescriptionStyleModel",
      "state": {
       "_model_module": "@jupyter-widgets/controls",
       "_model_module_version": "1.5.0",
       "_model_name": "DescriptionStyleModel",
       "_view_count": null,
       "_view_module": "@jupyter-widgets/base",
       "_view_module_version": "1.2.0",
       "_view_name": "StyleView",
       "description_width": ""
      }
     },
     "5544eb38ae5b4ec2bf897e898968575b": {
      "model_module": "@jupyter-widgets/controls",
      "model_module_version": "1.5.0",
      "model_name": "FloatProgressModel",
      "state": {
       "_dom_classes": [],
       "_model_module": "@jupyter-widgets/controls",
       "_model_module_version": "1.5.0",
       "_model_name": "FloatProgressModel",
       "_view_count": null,
       "_view_module": "@jupyter-widgets/controls",
       "_view_module_version": "1.5.0",
       "_view_name": "ProgressView",
       "bar_style": "success",
       "description": "",
       "description_tooltip": null,
       "layout": "IPY_MODEL_fff1e17a0fe44388acabfb6b23cc2e69",
       "max": 28,
       "min": 0,
       "orientation": "horizontal",
       "style": "IPY_MODEL_d48f37e6262b4c1eb1fe54a3e45052ed",
       "value": 28
      }
     },
     "5737c45eeab24b18b707a2020772cb1d": {
      "model_module": "@jupyter-widgets/controls",
      "model_module_version": "1.5.0",
      "model_name": "FloatProgressModel",
      "state": {
       "_dom_classes": [],
       "_model_module": "@jupyter-widgets/controls",
       "_model_module_version": "1.5.0",
       "_model_name": "FloatProgressModel",
       "_view_count": null,
       "_view_module": "@jupyter-widgets/controls",
       "_view_module_version": "1.5.0",
       "_view_name": "ProgressView",
       "bar_style": "success",
       "description": "",
       "description_tooltip": null,
       "layout": "IPY_MODEL_227fc9ca54fb40829a7ee7d8750741f6",
       "max": 570,
       "min": 0,
       "orientation": "horizontal",
       "style": "IPY_MODEL_44b0fceba1154f1995c6bc9a37350142",
       "value": 570
      }
     },
     "5ce4df72a0c54caf88ac584c512703e9": {
      "model_module": "@jupyter-widgets/base",
      "model_module_version": "1.2.0",
      "model_name": "LayoutModel",
      "state": {
       "_model_module": "@jupyter-widgets/base",
       "_model_module_version": "1.2.0",
       "_model_name": "LayoutModel",
       "_view_count": null,
       "_view_module": "@jupyter-widgets/base",
       "_view_module_version": "1.2.0",
       "_view_name": "LayoutView",
       "align_content": null,
       "align_items": null,
       "align_self": null,
       "border": null,
       "bottom": null,
       "display": null,
       "flex": null,
       "flex_flow": null,
       "grid_area": null,
       "grid_auto_columns": null,
       "grid_auto_flow": null,
       "grid_auto_rows": null,
       "grid_column": null,
       "grid_gap": null,
       "grid_row": null,
       "grid_template_areas": null,
       "grid_template_columns": null,
       "grid_template_rows": null,
       "height": null,
       "justify_content": null,
       "justify_items": null,
       "left": null,
       "margin": null,
       "max_height": null,
       "max_width": null,
       "min_height": null,
       "min_width": null,
       "object_fit": null,
       "object_position": null,
       "order": null,
       "overflow": null,
       "overflow_x": null,
       "overflow_y": null,
       "padding": null,
       "right": null,
       "top": null,
       "visibility": null,
       "width": null
      }
     },
     "61927bda0c2d4ecc93e89a9221123c7e": {
      "model_module": "@jupyter-widgets/controls",
      "model_module_version": "1.5.0",
      "model_name": "DescriptionStyleModel",
      "state": {
       "_model_module": "@jupyter-widgets/controls",
       "_model_module_version": "1.5.0",
       "_model_name": "DescriptionStyleModel",
       "_view_count": null,
       "_view_module": "@jupyter-widgets/base",
       "_view_module_version": "1.2.0",
       "_view_name": "StyleView",
       "description_width": ""
      }
     },
     "63ca9a96b95e43dd9d1140dc96d4dd15": {
      "model_module": "@jupyter-widgets/controls",
      "model_module_version": "1.5.0",
      "model_name": "ProgressStyleModel",
      "state": {
       "_model_module": "@jupyter-widgets/controls",
       "_model_module_version": "1.5.0",
       "_model_name": "ProgressStyleModel",
       "_view_count": null,
       "_view_module": "@jupyter-widgets/base",
       "_view_module_version": "1.2.0",
       "_view_name": "StyleView",
       "bar_color": null,
       "description_width": ""
      }
     },
     "6579fd1dddad497bb62001e74b6bd98d": {
      "model_module": "@jupyter-widgets/controls",
      "model_module_version": "1.5.0",
      "model_name": "DescriptionStyleModel",
      "state": {
       "_model_module": "@jupyter-widgets/controls",
       "_model_module_version": "1.5.0",
       "_model_name": "DescriptionStyleModel",
       "_view_count": null,
       "_view_module": "@jupyter-widgets/base",
       "_view_module_version": "1.2.0",
       "_view_name": "StyleView",
       "description_width": ""
      }
     },
     "6583586100b34c28a95bdd21548e6c08": {
      "model_module": "@jupyter-widgets/controls",
      "model_module_version": "1.5.0",
      "model_name": "DescriptionStyleModel",
      "state": {
       "_model_module": "@jupyter-widgets/controls",
       "_model_module_version": "1.5.0",
       "_model_name": "DescriptionStyleModel",
       "_view_count": null,
       "_view_module": "@jupyter-widgets/base",
       "_view_module_version": "1.2.0",
       "_view_name": "StyleView",
       "description_width": ""
      }
     },
     "67cabe87628e4757843bf588a14e4ab4": {
      "model_module": "@jupyter-widgets/base",
      "model_module_version": "1.2.0",
      "model_name": "LayoutModel",
      "state": {
       "_model_module": "@jupyter-widgets/base",
       "_model_module_version": "1.2.0",
       "_model_name": "LayoutModel",
       "_view_count": null,
       "_view_module": "@jupyter-widgets/base",
       "_view_module_version": "1.2.0",
       "_view_name": "LayoutView",
       "align_content": null,
       "align_items": null,
       "align_self": null,
       "border": null,
       "bottom": null,
       "display": null,
       "flex": null,
       "flex_flow": null,
       "grid_area": null,
       "grid_auto_columns": null,
       "grid_auto_flow": null,
       "grid_auto_rows": null,
       "grid_column": null,
       "grid_gap": null,
       "grid_row": null,
       "grid_template_areas": null,
       "grid_template_columns": null,
       "grid_template_rows": null,
       "height": null,
       "justify_content": null,
       "justify_items": null,
       "left": null,
       "margin": null,
       "max_height": null,
       "max_width": null,
       "min_height": null,
       "min_width": null,
       "object_fit": null,
       "object_position": null,
       "order": null,
       "overflow": null,
       "overflow_x": null,
       "overflow_y": null,
       "padding": null,
       "right": null,
       "top": null,
       "visibility": null,
       "width": null
      }
     },
     "69539bf56daf4fc5b8d5a76133e80159": {
      "model_module": "@jupyter-widgets/controls",
      "model_module_version": "1.5.0",
      "model_name": "HBoxModel",
      "state": {
       "_dom_classes": [],
       "_model_module": "@jupyter-widgets/controls",
       "_model_module_version": "1.5.0",
       "_model_name": "HBoxModel",
       "_view_count": null,
       "_view_module": "@jupyter-widgets/controls",
       "_view_module_version": "1.5.0",
       "_view_name": "HBoxView",
       "box_style": "",
       "children": [
        "IPY_MODEL_7c01135848684ca2acdfd06f8f978b0d",
        "IPY_MODEL_ef4640cc85ec4c9fa2eedb976ce21ce7",
        "IPY_MODEL_ff6491138d8540759b462a286629576c"
       ],
       "layout": "IPY_MODEL_90a43f7100fe4d649e4471cf0ca5d907"
      }
     },
     "6a15c49ebb46453eafcd8e5b543a227a": {
      "model_module": "@jupyter-widgets/controls",
      "model_module_version": "1.5.0",
      "model_name": "DescriptionStyleModel",
      "state": {
       "_model_module": "@jupyter-widgets/controls",
       "_model_module_version": "1.5.0",
       "_model_name": "DescriptionStyleModel",
       "_view_count": null,
       "_view_module": "@jupyter-widgets/base",
       "_view_module_version": "1.2.0",
       "_view_name": "StyleView",
       "description_width": ""
      }
     },
     "6a89643b8d6347f8853d83273461a700": {
      "model_module": "@jupyter-widgets/controls",
      "model_module_version": "1.5.0",
      "model_name": "DescriptionStyleModel",
      "state": {
       "_model_module": "@jupyter-widgets/controls",
       "_model_module_version": "1.5.0",
       "_model_name": "DescriptionStyleModel",
       "_view_count": null,
       "_view_module": "@jupyter-widgets/base",
       "_view_module_version": "1.2.0",
       "_view_name": "StyleView",
       "description_width": ""
      }
     },
     "6e22246d2f2649459881576842545b9a": {
      "model_module": "@jupyter-widgets/controls",
      "model_module_version": "1.5.0",
      "model_name": "HTMLModel",
      "state": {
       "_dom_classes": [],
       "_model_module": "@jupyter-widgets/controls",
       "_model_module_version": "1.5.0",
       "_model_name": "HTMLModel",
       "_view_count": null,
       "_view_module": "@jupyter-widgets/controls",
       "_view_module_version": "1.5.0",
       "_view_name": "HTMLView",
       "description": "",
       "description_tooltip": null,
       "layout": "IPY_MODEL_394f49ea19094ba0b2fb69fb22b33ebe",
       "placeholder": "​",
       "style": "IPY_MODEL_6579fd1dddad497bb62001e74b6bd98d",
       "value": "Downloading: 100%"
      }
     },
     "70cee6eb750f475bb81afde1e2ae7be4": {
      "model_module": "@jupyter-widgets/controls",
      "model_module_version": "1.5.0",
      "model_name": "FloatProgressModel",
      "state": {
       "_dom_classes": [],
       "_model_module": "@jupyter-widgets/controls",
       "_model_module_version": "1.5.0",
       "_model_name": "FloatProgressModel",
       "_view_count": null,
       "_view_module": "@jupyter-widgets/controls",
       "_view_module_version": "1.5.0",
       "_view_name": "ProgressView",
       "bar_style": "success",
       "description": "",
       "description_tooltip": null,
       "layout": "IPY_MODEL_c72492aede864c7691f921dfb02b1bc8",
       "max": 231508,
       "min": 0,
       "orientation": "horizontal",
       "style": "IPY_MODEL_63ca9a96b95e43dd9d1140dc96d4dd15",
       "value": 231508
      }
     },
     "7428eab6bb904f33a4bb01e636715171": {
      "model_module": "@jupyter-widgets/controls",
      "model_module_version": "1.5.0",
      "model_name": "FloatProgressModel",
      "state": {
       "_dom_classes": [],
       "_model_module": "@jupyter-widgets/controls",
       "_model_module_version": "1.5.0",
       "_model_name": "FloatProgressModel",
       "_view_count": null,
       "_view_module": "@jupyter-widgets/controls",
       "_view_module_version": "1.5.0",
       "_view_name": "ProgressView",
       "bar_style": "success",
       "description": "",
       "description_tooltip": null,
       "layout": "IPY_MODEL_eeaf183ac61648f58f9186b9b948b118",
       "max": 440473133,
       "min": 0,
       "orientation": "horizontal",
       "style": "IPY_MODEL_448746284e684c5eb05540e9992b7049",
       "value": 440473133
      }
     },
     "7a9bca103f3b4ce19d60c5f69ad41780": {
      "model_module": "@jupyter-widgets/controls",
      "model_module_version": "1.5.0",
      "model_name": "HBoxModel",
      "state": {
       "_dom_classes": [],
       "_model_module": "@jupyter-widgets/controls",
       "_model_module_version": "1.5.0",
       "_model_name": "HBoxModel",
       "_view_count": null,
       "_view_module": "@jupyter-widgets/controls",
       "_view_module_version": "1.5.0",
       "_view_name": "HBoxView",
       "box_style": "",
       "children": [
        "IPY_MODEL_c04a5efc798b430995c59dc0df8ee3ef",
        "IPY_MODEL_7428eab6bb904f33a4bb01e636715171",
        "IPY_MODEL_05cec28451784b54b7b3463950776f1a"
       ],
       "layout": "IPY_MODEL_b7a3a90d277e4dc082ed51c03e8aaf6d"
      }
     },
     "7c01135848684ca2acdfd06f8f978b0d": {
      "model_module": "@jupyter-widgets/controls",
      "model_module_version": "1.5.0",
      "model_name": "HTMLModel",
      "state": {
       "_dom_classes": [],
       "_model_module": "@jupyter-widgets/controls",
       "_model_module_version": "1.5.0",
       "_model_name": "HTMLModel",
       "_view_count": null,
       "_view_module": "@jupyter-widgets/controls",
       "_view_module_version": "1.5.0",
       "_view_name": "HTMLView",
       "description": "",
       "description_tooltip": null,
       "layout": "IPY_MODEL_ebbba5b7a24b4aeab214c6844c5dd928",
       "placeholder": "​",
       "style": "IPY_MODEL_d3b3e11ed71b4a70bbd2bac16faef8b5",
       "value": "Downloading: 100%"
      }
     },
     "831b5a224d9345ebbbec25881641c12e": {
      "model_module": "@jupyter-widgets/controls",
      "model_module_version": "1.5.0",
      "model_name": "HBoxModel",
      "state": {
       "_dom_classes": [],
       "_model_module": "@jupyter-widgets/controls",
       "_model_module_version": "1.5.0",
       "_model_name": "HBoxModel",
       "_view_count": null,
       "_view_module": "@jupyter-widgets/controls",
       "_view_module_version": "1.5.0",
       "_view_name": "HBoxView",
       "box_style": "",
       "children": [
        "IPY_MODEL_d90e9579b8cf46e584f326294c1704be",
        "IPY_MODEL_70cee6eb750f475bb81afde1e2ae7be4",
        "IPY_MODEL_27a7b4bb3aae4e8bbbbc8ba6d57bf813"
       ],
       "layout": "IPY_MODEL_5ce4df72a0c54caf88ac584c512703e9"
      }
     },
     "87e396adeab74b1eb60a2e7088d174ce": {
      "model_module": "@jupyter-widgets/base",
      "model_module_version": "1.2.0",
      "model_name": "LayoutModel",
      "state": {
       "_model_module": "@jupyter-widgets/base",
       "_model_module_version": "1.2.0",
       "_model_name": "LayoutModel",
       "_view_count": null,
       "_view_module": "@jupyter-widgets/base",
       "_view_module_version": "1.2.0",
       "_view_name": "LayoutView",
       "align_content": null,
       "align_items": null,
       "align_self": null,
       "border": null,
       "bottom": null,
       "display": null,
       "flex": null,
       "flex_flow": null,
       "grid_area": null,
       "grid_auto_columns": null,
       "grid_auto_flow": null,
       "grid_auto_rows": null,
       "grid_column": null,
       "grid_gap": null,
       "grid_row": null,
       "grid_template_areas": null,
       "grid_template_columns": null,
       "grid_template_rows": null,
       "height": null,
       "justify_content": null,
       "justify_items": null,
       "left": null,
       "margin": null,
       "max_height": null,
       "max_width": null,
       "min_height": null,
       "min_width": null,
       "object_fit": null,
       "object_position": null,
       "order": null,
       "overflow": null,
       "overflow_x": null,
       "overflow_y": null,
       "padding": null,
       "right": null,
       "top": null,
       "visibility": null,
       "width": null
      }
     },
     "90a43f7100fe4d649e4471cf0ca5d907": {
      "model_module": "@jupyter-widgets/base",
      "model_module_version": "1.2.0",
      "model_name": "LayoutModel",
      "state": {
       "_model_module": "@jupyter-widgets/base",
       "_model_module_version": "1.2.0",
       "_model_name": "LayoutModel",
       "_view_count": null,
       "_view_module": "@jupyter-widgets/base",
       "_view_module_version": "1.2.0",
       "_view_name": "LayoutView",
       "align_content": null,
       "align_items": null,
       "align_self": null,
       "border": null,
       "bottom": null,
       "display": null,
       "flex": null,
       "flex_flow": null,
       "grid_area": null,
       "grid_auto_columns": null,
       "grid_auto_flow": null,
       "grid_auto_rows": null,
       "grid_column": null,
       "grid_gap": null,
       "grid_row": null,
       "grid_template_areas": null,
       "grid_template_columns": null,
       "grid_template_rows": null,
       "height": null,
       "justify_content": null,
       "justify_items": null,
       "left": null,
       "margin": null,
       "max_height": null,
       "max_width": null,
       "min_height": null,
       "min_width": null,
       "object_fit": null,
       "object_position": null,
       "order": null,
       "overflow": null,
       "overflow_x": null,
       "overflow_y": null,
       "padding": null,
       "right": null,
       "top": null,
       "visibility": null,
       "width": null
      }
     },
     "92689ab4e1ac4124adb196ef2737766f": {
      "model_module": "@jupyter-widgets/base",
      "model_module_version": "1.2.0",
      "model_name": "LayoutModel",
      "state": {
       "_model_module": "@jupyter-widgets/base",
       "_model_module_version": "1.2.0",
       "_model_name": "LayoutModel",
       "_view_count": null,
       "_view_module": "@jupyter-widgets/base",
       "_view_module_version": "1.2.0",
       "_view_name": "LayoutView",
       "align_content": null,
       "align_items": null,
       "align_self": null,
       "border": null,
       "bottom": null,
       "display": null,
       "flex": null,
       "flex_flow": null,
       "grid_area": null,
       "grid_auto_columns": null,
       "grid_auto_flow": null,
       "grid_auto_rows": null,
       "grid_column": null,
       "grid_gap": null,
       "grid_row": null,
       "grid_template_areas": null,
       "grid_template_columns": null,
       "grid_template_rows": null,
       "height": null,
       "justify_content": null,
       "justify_items": null,
       "left": null,
       "margin": null,
       "max_height": null,
       "max_width": null,
       "min_height": null,
       "min_width": null,
       "object_fit": null,
       "object_position": null,
       "order": null,
       "overflow": null,
       "overflow_x": null,
       "overflow_y": null,
       "padding": null,
       "right": null,
       "top": null,
       "visibility": null,
       "width": null
      }
     },
     "9ea89794d71440168330b5ead912491e": {
      "model_module": "@jupyter-widgets/controls",
      "model_module_version": "1.5.0",
      "model_name": "ProgressStyleModel",
      "state": {
       "_model_module": "@jupyter-widgets/controls",
       "_model_module_version": "1.5.0",
       "_model_name": "ProgressStyleModel",
       "_view_count": null,
       "_view_module": "@jupyter-widgets/base",
       "_view_module_version": "1.2.0",
       "_view_name": "StyleView",
       "bar_color": null,
       "description_width": ""
      }
     },
     "a6e6761d5ae24ec488ff0034fa656a53": {
      "model_module": "@jupyter-widgets/controls",
      "model_module_version": "1.5.0",
      "model_name": "DescriptionStyleModel",
      "state": {
       "_model_module": "@jupyter-widgets/controls",
       "_model_module_version": "1.5.0",
       "_model_name": "DescriptionStyleModel",
       "_view_count": null,
       "_view_module": "@jupyter-widgets/base",
       "_view_module_version": "1.2.0",
       "_view_name": "StyleView",
       "description_width": ""
      }
     },
     "b7a3a90d277e4dc082ed51c03e8aaf6d": {
      "model_module": "@jupyter-widgets/base",
      "model_module_version": "1.2.0",
      "model_name": "LayoutModel",
      "state": {
       "_model_module": "@jupyter-widgets/base",
       "_model_module_version": "1.2.0",
       "_model_name": "LayoutModel",
       "_view_count": null,
       "_view_module": "@jupyter-widgets/base",
       "_view_module_version": "1.2.0",
       "_view_name": "LayoutView",
       "align_content": null,
       "align_items": null,
       "align_self": null,
       "border": null,
       "bottom": null,
       "display": null,
       "flex": null,
       "flex_flow": null,
       "grid_area": null,
       "grid_auto_columns": null,
       "grid_auto_flow": null,
       "grid_auto_rows": null,
       "grid_column": null,
       "grid_gap": null,
       "grid_row": null,
       "grid_template_areas": null,
       "grid_template_columns": null,
       "grid_template_rows": null,
       "height": null,
       "justify_content": null,
       "justify_items": null,
       "left": null,
       "margin": null,
       "max_height": null,
       "max_width": null,
       "min_height": null,
       "min_width": null,
       "object_fit": null,
       "object_position": null,
       "order": null,
       "overflow": null,
       "overflow_x": null,
       "overflow_y": null,
       "padding": null,
       "right": null,
       "top": null,
       "visibility": null,
       "width": null
      }
     },
     "c04a5efc798b430995c59dc0df8ee3ef": {
      "model_module": "@jupyter-widgets/controls",
      "model_module_version": "1.5.0",
      "model_name": "HTMLModel",
      "state": {
       "_dom_classes": [],
       "_model_module": "@jupyter-widgets/controls",
       "_model_module_version": "1.5.0",
       "_model_name": "HTMLModel",
       "_view_count": null,
       "_view_module": "@jupyter-widgets/controls",
       "_view_module_version": "1.5.0",
       "_view_name": "HTMLView",
       "description": "",
       "description_tooltip": null,
       "layout": "IPY_MODEL_3f73f73250a94428a98c4074d5400c82",
       "placeholder": "​",
       "style": "IPY_MODEL_6a15c49ebb46453eafcd8e5b543a227a",
       "value": "Downloading: 100%"
      }
     },
     "c5f641c58b06470ea832175a4029c03a": {
      "model_module": "@jupyter-widgets/controls",
      "model_module_version": "1.5.0",
      "model_name": "HTMLModel",
      "state": {
       "_dom_classes": [],
       "_model_module": "@jupyter-widgets/controls",
       "_model_module_version": "1.5.0",
       "_model_name": "HTMLModel",
       "_view_count": null,
       "_view_module": "@jupyter-widgets/controls",
       "_view_module_version": "1.5.0",
       "_view_name": "HTMLView",
       "description": "",
       "description_tooltip": null,
       "layout": "IPY_MODEL_87e396adeab74b1eb60a2e7088d174ce",
       "placeholder": "​",
       "style": "IPY_MODEL_3e092d12b0a84464a60b8df84ee6502a",
       "value": " 570/570 [00:00&lt;00:00, 21.6kB/s]"
      }
     },
     "c72492aede864c7691f921dfb02b1bc8": {
      "model_module": "@jupyter-widgets/base",
      "model_module_version": "1.2.0",
      "model_name": "LayoutModel",
      "state": {
       "_model_module": "@jupyter-widgets/base",
       "_model_module_version": "1.2.0",
       "_model_name": "LayoutModel",
       "_view_count": null,
       "_view_module": "@jupyter-widgets/base",
       "_view_module_version": "1.2.0",
       "_view_name": "LayoutView",
       "align_content": null,
       "align_items": null,
       "align_self": null,
       "border": null,
       "bottom": null,
       "display": null,
       "flex": null,
       "flex_flow": null,
       "grid_area": null,
       "grid_auto_columns": null,
       "grid_auto_flow": null,
       "grid_auto_rows": null,
       "grid_column": null,
       "grid_gap": null,
       "grid_row": null,
       "grid_template_areas": null,
       "grid_template_columns": null,
       "grid_template_rows": null,
       "height": null,
       "justify_content": null,
       "justify_items": null,
       "left": null,
       "margin": null,
       "max_height": null,
       "max_width": null,
       "min_height": null,
       "min_width": null,
       "object_fit": null,
       "object_position": null,
       "order": null,
       "overflow": null,
       "overflow_x": null,
       "overflow_y": null,
       "padding": null,
       "right": null,
       "top": null,
       "visibility": null,
       "width": null
      }
     },
     "c76ebcedd778418c8228c5560a2d4826": {
      "model_module": "@jupyter-widgets/controls",
      "model_module_version": "1.5.0",
      "model_name": "HTMLModel",
      "state": {
       "_dom_classes": [],
       "_model_module": "@jupyter-widgets/controls",
       "_model_module_version": "1.5.0",
       "_model_name": "HTMLModel",
       "_view_count": null,
       "_view_module": "@jupyter-widgets/controls",
       "_view_module_version": "1.5.0",
       "_view_name": "HTMLView",
       "description": "",
       "description_tooltip": null,
       "layout": "IPY_MODEL_67cabe87628e4757843bf588a14e4ab4",
       "placeholder": "​",
       "style": "IPY_MODEL_6583586100b34c28a95bdd21548e6c08",
       "value": "Downloading: 100%"
      }
     },
     "d3b3e11ed71b4a70bbd2bac16faef8b5": {
      "model_module": "@jupyter-widgets/controls",
      "model_module_version": "1.5.0",
      "model_name": "DescriptionStyleModel",
      "state": {
       "_model_module": "@jupyter-widgets/controls",
       "_model_module_version": "1.5.0",
       "_model_name": "DescriptionStyleModel",
       "_view_count": null,
       "_view_module": "@jupyter-widgets/base",
       "_view_module_version": "1.2.0",
       "_view_name": "StyleView",
       "description_width": ""
      }
     },
     "d48f37e6262b4c1eb1fe54a3e45052ed": {
      "model_module": "@jupyter-widgets/controls",
      "model_module_version": "1.5.0",
      "model_name": "ProgressStyleModel",
      "state": {
       "_model_module": "@jupyter-widgets/controls",
       "_model_module_version": "1.5.0",
       "_model_name": "ProgressStyleModel",
       "_view_count": null,
       "_view_module": "@jupyter-widgets/base",
       "_view_module_version": "1.2.0",
       "_view_name": "StyleView",
       "bar_color": null,
       "description_width": ""
      }
     },
     "d90e9579b8cf46e584f326294c1704be": {
      "model_module": "@jupyter-widgets/controls",
      "model_module_version": "1.5.0",
      "model_name": "HTMLModel",
      "state": {
       "_dom_classes": [],
       "_model_module": "@jupyter-widgets/controls",
       "_model_module_version": "1.5.0",
       "_model_name": "HTMLModel",
       "_view_count": null,
       "_view_module": "@jupyter-widgets/controls",
       "_view_module_version": "1.5.0",
       "_view_name": "HTMLView",
       "description": "",
       "description_tooltip": null,
       "layout": "IPY_MODEL_0a9195563d174373bbdcf5999de70a1d",
       "placeholder": "​",
       "style": "IPY_MODEL_61927bda0c2d4ecc93e89a9221123c7e",
       "value": "Downloading: 100%"
      }
     },
     "ea865833e6af4082b1cbb0e81956c7a7": {
      "model_module": "@jupyter-widgets/controls",
      "model_module_version": "1.5.0",
      "model_name": "HBoxModel",
      "state": {
       "_dom_classes": [],
       "_model_module": "@jupyter-widgets/controls",
       "_model_module_version": "1.5.0",
       "_model_name": "HBoxModel",
       "_view_count": null,
       "_view_module": "@jupyter-widgets/controls",
       "_view_module_version": "1.5.0",
       "_view_name": "HBoxView",
       "box_style": "",
       "children": [
        "IPY_MODEL_6e22246d2f2649459881576842545b9a",
        "IPY_MODEL_5544eb38ae5b4ec2bf897e898968575b",
        "IPY_MODEL_ff08d3e2fd1447cb8daede62839092ef"
       ],
       "layout": "IPY_MODEL_92689ab4e1ac4124adb196ef2737766f"
      }
     },
     "ebbba5b7a24b4aeab214c6844c5dd928": {
      "model_module": "@jupyter-widgets/base",
      "model_module_version": "1.2.0",
      "model_name": "LayoutModel",
      "state": {
       "_model_module": "@jupyter-widgets/base",
       "_model_module_version": "1.2.0",
       "_model_name": "LayoutModel",
       "_view_count": null,
       "_view_module": "@jupyter-widgets/base",
       "_view_module_version": "1.2.0",
       "_view_name": "LayoutView",
       "align_content": null,
       "align_items": null,
       "align_self": null,
       "border": null,
       "bottom": null,
       "display": null,
       "flex": null,
       "flex_flow": null,
       "grid_area": null,
       "grid_auto_columns": null,
       "grid_auto_flow": null,
       "grid_auto_rows": null,
       "grid_column": null,
       "grid_gap": null,
       "grid_row": null,
       "grid_template_areas": null,
       "grid_template_columns": null,
       "grid_template_rows": null,
       "height": null,
       "justify_content": null,
       "justify_items": null,
       "left": null,
       "margin": null,
       "max_height": null,
       "max_width": null,
       "min_height": null,
       "min_width": null,
       "object_fit": null,
       "object_position": null,
       "order": null,
       "overflow": null,
       "overflow_x": null,
       "overflow_y": null,
       "padding": null,
       "right": null,
       "top": null,
       "visibility": null,
       "width": null
      }
     },
     "eeaf183ac61648f58f9186b9b948b118": {
      "model_module": "@jupyter-widgets/base",
      "model_module_version": "1.2.0",
      "model_name": "LayoutModel",
      "state": {
       "_model_module": "@jupyter-widgets/base",
       "_model_module_version": "1.2.0",
       "_model_name": "LayoutModel",
       "_view_count": null,
       "_view_module": "@jupyter-widgets/base",
       "_view_module_version": "1.2.0",
       "_view_name": "LayoutView",
       "align_content": null,
       "align_items": null,
       "align_self": null,
       "border": null,
       "bottom": null,
       "display": null,
       "flex": null,
       "flex_flow": null,
       "grid_area": null,
       "grid_auto_columns": null,
       "grid_auto_flow": null,
       "grid_auto_rows": null,
       "grid_column": null,
       "grid_gap": null,
       "grid_row": null,
       "grid_template_areas": null,
       "grid_template_columns": null,
       "grid_template_rows": null,
       "height": null,
       "justify_content": null,
       "justify_items": null,
       "left": null,
       "margin": null,
       "max_height": null,
       "max_width": null,
       "min_height": null,
       "min_width": null,
       "object_fit": null,
       "object_position": null,
       "order": null,
       "overflow": null,
       "overflow_x": null,
       "overflow_y": null,
       "padding": null,
       "right": null,
       "top": null,
       "visibility": null,
       "width": null
      }
     },
     "ef4640cc85ec4c9fa2eedb976ce21ce7": {
      "model_module": "@jupyter-widgets/controls",
      "model_module_version": "1.5.0",
      "model_name": "FloatProgressModel",
      "state": {
       "_dom_classes": [],
       "_model_module": "@jupyter-widgets/controls",
       "_model_module_version": "1.5.0",
       "_model_name": "FloatProgressModel",
       "_view_count": null,
       "_view_module": "@jupyter-widgets/controls",
       "_view_module_version": "1.5.0",
       "_view_name": "ProgressView",
       "bar_style": "success",
       "description": "",
       "description_tooltip": null,
       "layout": "IPY_MODEL_31c743482d394b86aec2164bf2f1c12e",
       "max": 466062,
       "min": 0,
       "orientation": "horizontal",
       "style": "IPY_MODEL_9ea89794d71440168330b5ead912491e",
       "value": 466062
      }
     },
     "f75b64f7f45c419a81f9bb8033b55d32": {
      "model_module": "@jupyter-widgets/base",
      "model_module_version": "1.2.0",
      "model_name": "LayoutModel",
      "state": {
       "_model_module": "@jupyter-widgets/base",
       "_model_module_version": "1.2.0",
       "_model_name": "LayoutModel",
       "_view_count": null,
       "_view_module": "@jupyter-widgets/base",
       "_view_module_version": "1.2.0",
       "_view_name": "LayoutView",
       "align_content": null,
       "align_items": null,
       "align_self": null,
       "border": null,
       "bottom": null,
       "display": null,
       "flex": null,
       "flex_flow": null,
       "grid_area": null,
       "grid_auto_columns": null,
       "grid_auto_flow": null,
       "grid_auto_rows": null,
       "grid_column": null,
       "grid_gap": null,
       "grid_row": null,
       "grid_template_areas": null,
       "grid_template_columns": null,
       "grid_template_rows": null,
       "height": null,
       "justify_content": null,
       "justify_items": null,
       "left": null,
       "margin": null,
       "max_height": null,
       "max_width": null,
       "min_height": null,
       "min_width": null,
       "object_fit": null,
       "object_position": null,
       "order": null,
       "overflow": null,
       "overflow_x": null,
       "overflow_y": null,
       "padding": null,
       "right": null,
       "top": null,
       "visibility": null,
       "width": null
      }
     },
     "f9fa29b580594216be81fe02e3b4a676": {
      "model_module": "@jupyter-widgets/base",
      "model_module_version": "1.2.0",
      "model_name": "LayoutModel",
      "state": {
       "_model_module": "@jupyter-widgets/base",
       "_model_module_version": "1.2.0",
       "_model_name": "LayoutModel",
       "_view_count": null,
       "_view_module": "@jupyter-widgets/base",
       "_view_module_version": "1.2.0",
       "_view_name": "LayoutView",
       "align_content": null,
       "align_items": null,
       "align_self": null,
       "border": null,
       "bottom": null,
       "display": null,
       "flex": null,
       "flex_flow": null,
       "grid_area": null,
       "grid_auto_columns": null,
       "grid_auto_flow": null,
       "grid_auto_rows": null,
       "grid_column": null,
       "grid_gap": null,
       "grid_row": null,
       "grid_template_areas": null,
       "grid_template_columns": null,
       "grid_template_rows": null,
       "height": null,
       "justify_content": null,
       "justify_items": null,
       "left": null,
       "margin": null,
       "max_height": null,
       "max_width": null,
       "min_height": null,
       "min_width": null,
       "object_fit": null,
       "object_position": null,
       "order": null,
       "overflow": null,
       "overflow_x": null,
       "overflow_y": null,
       "padding": null,
       "right": null,
       "top": null,
       "visibility": null,
       "width": null
      }
     },
     "ff08d3e2fd1447cb8daede62839092ef": {
      "model_module": "@jupyter-widgets/controls",
      "model_module_version": "1.5.0",
      "model_name": "HTMLModel",
      "state": {
       "_dom_classes": [],
       "_model_module": "@jupyter-widgets/controls",
       "_model_module_version": "1.5.0",
       "_model_name": "HTMLModel",
       "_view_count": null,
       "_view_module": "@jupyter-widgets/controls",
       "_view_module_version": "1.5.0",
       "_view_name": "HTMLView",
       "description": "",
       "description_tooltip": null,
       "layout": "IPY_MODEL_f75b64f7f45c419a81f9bb8033b55d32",
       "placeholder": "​",
       "style": "IPY_MODEL_0740d8f0dea8492280d22eac4f58ec58",
       "value": " 28.0/28.0 [00:00&lt;00:00, 1.11kB/s]"
      }
     },
     "ff6491138d8540759b462a286629576c": {
      "model_module": "@jupyter-widgets/controls",
      "model_module_version": "1.5.0",
      "model_name": "HTMLModel",
      "state": {
       "_dom_classes": [],
       "_model_module": "@jupyter-widgets/controls",
       "_model_module_version": "1.5.0",
       "_model_name": "HTMLModel",
       "_view_count": null,
       "_view_module": "@jupyter-widgets/controls",
       "_view_module_version": "1.5.0",
       "_view_name": "HTMLView",
       "description": "",
       "description_tooltip": null,
       "layout": "IPY_MODEL_459bc7466ea342b7a1a9b143b4879aea",
       "placeholder": "​",
       "style": "IPY_MODEL_507c66bf401545f3a850742a88ffcbda",
       "value": " 466k/466k [00:00&lt;00:00, 3.65MB/s]"
      }
     },
     "fff1e17a0fe44388acabfb6b23cc2e69": {
      "model_module": "@jupyter-widgets/base",
      "model_module_version": "1.2.0",
      "model_name": "LayoutModel",
      "state": {
       "_model_module": "@jupyter-widgets/base",
       "_model_module_version": "1.2.0",
       "_model_name": "LayoutModel",
       "_view_count": null,
       "_view_module": "@jupyter-widgets/base",
       "_view_module_version": "1.2.0",
       "_view_name": "LayoutView",
       "align_content": null,
       "align_items": null,
       "align_self": null,
       "border": null,
       "bottom": null,
       "display": null,
       "flex": null,
       "flex_flow": null,
       "grid_area": null,
       "grid_auto_columns": null,
       "grid_auto_flow": null,
       "grid_auto_rows": null,
       "grid_column": null,
       "grid_gap": null,
       "grid_row": null,
       "grid_template_areas": null,
       "grid_template_columns": null,
       "grid_template_rows": null,
       "height": null,
       "justify_content": null,
       "justify_items": null,
       "left": null,
       "margin": null,
       "max_height": null,
       "max_width": null,
       "min_height": null,
       "min_width": null,
       "object_fit": null,
       "object_position": null,
       "order": null,
       "overflow": null,
       "overflow_x": null,
       "overflow_y": null,
       "padding": null,
       "right": null,
       "top": null,
       "visibility": null,
       "width": null
      }
     }
    },
    "version_major": 2,
    "version_minor": 0
   }
  }
 },
 "nbformat": 4,
 "nbformat_minor": 5
}